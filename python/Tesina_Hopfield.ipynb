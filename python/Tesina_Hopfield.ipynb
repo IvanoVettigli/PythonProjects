{
 "cells": [
  {
   "cell_type": "markdown",
   "metadata": {},
   "source": [
    "# Reti neurali, modello di Hopfield e apprendimento\n",
    "\n",
    "In questa tesina una rete neurale molto semplice è implementata seguendo il modello di Hopfield in modo da simulare il comportamento della memoria umana. La capacità di immagazzinamento di diversi pattern è investigata, così come la risposta a diverse temperature.\n",
    "Alla fine, un algoritmo di apprendimento è implementato.\n",
    "\n",
    "\n"
   ]
  },
  {
   "cell_type": "markdown",
   "metadata": {},
   "source": [
    "# Il modello e le semplificazioni\n",
    "\n",
    "Seguendo il modello di Hopfield, modelliziamo un neurone come uno spin che può avere due valori, $s_i = +1$ $ o -1 $. I neuroni sono tutti connessi fra di loro, e possiamo definire una funzione \"energia\" nel modo seguente:\n",
    "\n",
    "$ E = - \\sum J_{ij} s_i s_j. $\n",
    "\n",
    "dove le $ J_{ij} $ sono collegate alla forza della connessione fra i neuroni $ i $ e $ j $. Chiamiamo questa funzione energia in quanto le $ J_{ij} $ sono scelte in modo che la funzione sia simmetrica e sia quindi possibile applicare i metodi della meccanica statistica. In questo modello stiamo trascurando diverse caratteristiche del cervello, come il comportamento non lineare dei neuroni, il fatto che non agiscono in simultaneo, le connessioni non sono necessariamente simmetriche e non necessariamente tutti i neuroni sono collegati a tutti i neuroni. E' infatti appurato che questo modello è ben lontano dall'essere un modello affidabile per descrivere il cervello tuttavia ha stimolato numerosi progressi [Giordano, Computational Physic] [Introduction to the theory of neural computations] .\n",
    "Per simulare la memoria umana dobbiamo immagazzinare dei pattern nella rete che dovranno poi essere richiamati quando immettiamo dei pattern simili. Vediamo un esempio."
   ]
  },
  {
   "cell_type": "code",
   "execution_count": 3,
   "metadata": {
    "collapsed": false
   },
   "outputs": [
    {
     "data": {
      "text/plain": [
       "<matplotlib.collections.PolyCollection at 0x287df0585c0>"
      ]
     },
     "execution_count": 3,
     "metadata": {},
     "output_type": "execute_result"
    },
    {
     "data": {
      "image/png": "[encoded data removed]",
      "text/plain": [
       "<matplotlib.figure.Figure at 0x287de78e198>"
      ]
     },
     "metadata": {},
     "output_type": "display_data"
    }
   ],
   "source": [
    "import numpy as np\n",
    "import matplotlib.pyplot as mpl    #Importa librerie per grafici, calcoli, e fa si che vengano mostrati all'intenro del notebook\n",
    "%matplotlib inline\n",
    "\n",
    "#Il pattern desiderato è immagazzinato\n",
    "S = [\n",
    "   [-1, -1, -1, 1, 1, 1, 1, 1, 1, -1],\n",
    "   [-1, -1, 1, 1, 1, 1, 1, 1, 1, -1],\n",
    "   [-1, 1, 1, -1, -1, -1, -1, -1, -1, -1],\n",
    "   [-1, 1, 1, -1, -1, -1, -1, -1, -1, -1],\n",
    "   [-1, 1, 1, 1, 1, 1, -1, -1, -1, -1],\n",
    "   [-1, -1, 1, 1, 1, 1, 1, 1, -1, -1],\n",
    "   [-1, -1, -1, -1, -1, -1, 1, 1, -1, -1],\n",
    "   [-1, -1, -1, -1, -1, -1, 1, 1, -1, -1],\n",
    "   [1, 1, 1, 1, 1, 1, 1, 1, -1, -1],\n",
    "   [1, 1, 1, 1, 1, 1, 1, -1, -1, -1]\n",
    "   ];\n",
    "\n",
    "\n",
    "S = np.flipud(S)  #gira il pattern sottosopra così da somigliare ad una S quando rappresentato con pcolor\n",
    "mpl.pcolor(S)"
   ]
  },
  {
   "cell_type": "markdown",
   "metadata": {},
   "source": [
    "Se immettiamo alla rete qualcosa che somiglia ad S, ci aspettiamo che S sia richiamato. Per implementare un meccanismo simile usiamo una simulazione Monte-Carlo con algoritmo Metropolis. Partiamo dal pattern che somiglia ad S e giriamo un neurone e se questa operazione risulta in un aumento di energia giriamo nuovamente il neurone. Facciamo ciò per ogni neurone della rete (uno step Monte-Carlo) finchè non raggiungiamo il minimo dell'energia.\n",
    "Questo significa che dovremo definire le $ J_{ij} $ in modo tale che S sia un minimo per l'energia. Riferendoci ad un generico pattern con $ m $ possiamo porre\n",
    "\n",
    "$ J_{ij}=s_i(m)s_j(m) $\n",
    "\n",
    "che ovviamente soddisfa le nostre condizioni. Segue una rapida implementazione."
   ]
  },
  {
   "cell_type": "code",
   "execution_count": 4,
   "metadata": {
    "collapsed": false
   },
   "outputs": [
    {
     "name": "stdout",
     "output_type": "stream",
     "text": [
      "Questo?\n"
     ]
    },
    {
     "data": {
      "image/png": "[encoded data removed]",
      "text/plain": [
       "<matplotlib.figure.Figure at 0x287df2d6c88>"
      ]
     },
     "metadata": {},
     "output_type": "display_data"
    },
    {
     "name": "stdout",
     "output_type": "stream",
     "text": [
      "Mi ricorda questo!\n"
     ]
    },
    {
     "data": {
      "image/png": "[encoded data removed]",
      "text/plain": [
       "<matplotlib.figure.Figure at 0x287e030f5c0>"
      ]
     },
     "metadata": {},
     "output_type": "display_data"
    }
   ],
   "source": [
    "import numpy as np                 #Importa le librerie per grafici, operazioni matematica, stampare nel notebook i grafici\n",
    "import matplotlib.pyplot as mpl    #e abilitare i widget\n",
    "from ipywidgets import *\n",
    "%matplotlib inline\n",
    "\n",
    "J = np.zeros((10,10,10,10))    #Definiamo una matrie quadridimensionale per le J_ij\n",
    "\n",
    "for k in range(10):\n",
    "    for l in range(10):\n",
    "        for m in range(10):\n",
    "            for n in range(10):\n",
    "                J[k,l,m,n] = S[k,l]*S[m,n]    #Assegniamo i valori\n",
    "                \n",
    "def H(A):                                        #Una funzione che calcola l'energia di una configurazione\n",
    "    H = 0\n",
    "    for k in range(10):\n",
    "        for l in range(10):\n",
    "             for m in range(10):\n",
    "                for n in range(10):\n",
    "                    H = H + (-J[k,l,m,n]*A[k,l]*A[m,n])\n",
    "    return H \n",
    "\n",
    "simil_S = np.zeros((10,10))             #Costriamo un copia di S\n",
    "np.copyto(simil_S,S)\n",
    "\n",
    "def simple_memory(prob, max_cycles):    #Definiamo la funzione che stamperà i grafici, che dipendono da prob e max_cycles\n",
    "\n",
    "    for i in range(10):\n",
    "        for j in range(10):\n",
    "\n",
    "            if np.random.randint(10) > prob:   #Modifichiamo in modo random il pattern simile ad S e stampiamo\n",
    "                simil_S[i,j] = -simil_S[i,j]\n",
    "\n",
    "    print(\"Questo?\")\n",
    "    mpl.figure()\n",
    "    mpl.pcolor(simil_S)\n",
    "    mpl.show()\n",
    "    mpl.close()\n",
    "    print(\"Mi ricorda questo!\")\n",
    "\n",
    "    for t in range(max_cycles):            #Il metodo Monte-Carlo!!!\n",
    "        for i in range(10):\n",
    "            for j in range(10):\n",
    "                H_i = H(simil_S)\n",
    "                simil_S[i,j] = -simil_S[i,j]\n",
    "                H_f = H(simil_S)\n",
    "                if H_f > H_i:\n",
    "                    simil_S[i,j] = -simil_S[i,j]\n",
    "        \n",
    "        if (simil_S == S).all:  \n",
    "            break\n",
    "            \n",
    "    mpl.figure()\n",
    "    mpl.pcolor(simil_S)\n",
    "    mpl.show()\n",
    "    mpl.close()\n",
    "\n",
    "interact(simple_memory, prob = (0, 10, 1), max_cycles = (1, 10, 1) );\n",
    "\n",
    "#Nei grafici è possibile variare in modo interattivo la probabilità con cui un neurone viene girato e il numero\n",
    "#di step Monte-Carlo da eseguire. Ad esempio, se prob = 4 e max_cycles = 6 avremo che ogni neurone aveva il 40% di\n",
    "#probabilità di essere sostituito e vengono eseguiti non più di 6 step Monte-Carlo"
   ]
  },
  {
   "cell_type": "markdown",
   "metadata": {},
   "source": [
    "Adesso la nostra rete è innamorato. Qualsiasi cosa le sottoponiamo, ci restituirà il pattern S o il suo contrario!"
   ]
  },
  {
   "cell_type": "markdown",
   "metadata": {},
   "source": [
    "# Massimo numero di Pattern e effetto della temperatura\n",
    "\n",
    "Possiamo immagazinare altri pattern molto semplicemente ridefinendo le $ J_{ij} $ nel seguente modo:\n",
    "\n",
    "$ J_{ij} = \\frac{1}{M} \\sum\\limits_M s_i(m)s_j(m) $.\n",
    "\n",
    "Mediante le teorie di campo medie, si può arrivare a porre un limite massimo al numero di pattern di circa $ 0,13 $ volte il numero di neuroni. Tuttavia è molto difficile che una rete funzioni bene con così tanti pattern, a meno che questi non siano il più possibile perpendicolari. Inoltre si manifestano dei minimi spuri, dati dalla combinazione di diversi pattern, in generale meno profondi dei minimi desiderati. A tal scopo può essere utile introdurre una temperatura nel metodo Monte-Carlo, in modo che l'agitazione termica farà uscire la rete dai minimi indesiderati. Ovviamente una temperatura troppo alta farà si che il sistema  non si stabilizzi mai. Vediamo un esempio concreto."
   ]
  },
  {
   "cell_type": "code",
   "execution_count": 5,
   "metadata": {
    "collapsed": false
   },
   "outputs": [],
   "source": [
    "import numpy as np\n",
    "import matplotlib.pyplot as mpl\n",
    "%matplotlib inline\n",
    "\n",
    "#I pattern desiderati sono immagazzinati\n",
    "S = [\n",
    "   [-1, -1, -1, 1, 1, 1, 1, 1, 1, -1],\n",
    "   [-1, -1, 1, 1, 1, 1, 1, 1, 1, -1],\n",
    "   [-1, 1, 1, -1, -1, -1, -1, -1, -1, -1],\n",
    "   [-1, 1, 1, -1, -1, -1, -1, -1, -1, -1],\n",
    "   [-1, 1, 1, 1, 1, 1, -1, -1, -1, -1],\n",
    "   [-1, -1, 1, 1, 1, 1, 1, 1, -1, -1],\n",
    "   [-1, -1, -1, -1, -1, -1, 1, 1, -1, -1],\n",
    "   [-1, -1, -1, -1, -1, -1, 1, 1, -1, -1],\n",
    "   [1, 1, 1, 1, 1, 1, 1, 1, -1, -1],\n",
    "   [1, 1, 1, 1, 1, 1, 1, -1, -1, -1]\n",
    "   ];\n",
    "\n",
    "S = np.flipud(S)\n",
    "#mpl.pcolor(S)\n",
    "#mpl.show()\n",
    "\n",
    "A = [\n",
    "    [-1, -1, -1, -1, 1, 1, -1, -1, -1, -1],\n",
    "    [-1, -1, -1, 1, 1, 1, 1, -1, -1, -1],\n",
    "    [-1, -1, 1, 1, -1, -1, 1, 1, -1, -1],\n",
    "    [-1, 1, 1, -1, -1, -1, -1, 1, 1, -1],\n",
    "    [-1, 1, 1, 1, 1, 1, 1, 1, 1, -1],\n",
    "    [1, 1, 1, 1, 1, 1, 1, 1, 1, 1],\n",
    "    [1, 1, 1, -1, -1, -1, -1, 1, 1, 1],\n",
    "    [1, 1, -1, -1, -1, -1, -1, -1, 1, 1],\n",
    "    [1, 1, -1, -1, -1, -1, -1, -1, 1, 1],\n",
    "    [1, 1, -1, -1, -1, -1, -1, -1, 1, 1]\n",
    "   ];\n",
    "\n",
    "A = np.flipud(A)\n",
    "#mpl.pcolor(A)\n",
    "#mpl.show()\n",
    "\n",
    "R = [\n",
    "    [-1, -1, 1, 1, 1, 1, 1, -1, -1, -1],\n",
    "    [-1, 1, 1, 1, 1, 1, 1, 1, -1, -1],\n",
    "    [1, 1, 1, -1, -1, -1, 1, 1, -1, -1],\n",
    "    [1, 1, -1, -1, 1, 1, 1, 1, -1, -1],\n",
    "    [1, 1, 1, 1, 1, 1, 1, 1, -1, -1],\n",
    "    [1, 1, 1, 1, 1, 1, -1, -1, -1, -1],\n",
    "    [1, 1, -1, -1, 1, 1, 1, -1, -1, -1],\n",
    "    [1, 1, -1, -1, -1, -1, 1, 1, -1, -1],\n",
    "    [1, 1, -1, -1, -1, -1, 1, 1, -1, -1],\n",
    "    [1, 1, -1, -1, -1, -1, 1, 1, -1, -1]\n",
    "   ];\n",
    "\n",
    "R = np.flipud(R)\n",
    "#mpl.pcolor(R)\n",
    "#mpl.show()\n",
    "\n",
    "H = [\n",
    "    [1, 1, -1, -1, -1, -1, -1, -1, 1, 1],\n",
    "    [1, 1, -1, -1, -1, -1, -1, -1, 1, 1],\n",
    "    [1, 1, -1, -1, -1, -1, -1, -1, 1, 1],\n",
    "    [1, 1, -1, -1, -1, -1, -1, -1, 1, 1],\n",
    "    [1, 1, 1, 1, 1, 1, 1, 1, 1, 1],\n",
    "    [1, 1, 1, 1, 1, 1, 1, 1, 1, 1],\n",
    "    [1, 1, -1, -1, -1, -1, -1, -1, 1, 1],\n",
    "    [1, 1, -1, -1, -1, -1, -1, -1, 1, 1],\n",
    "    [1, 1, -1, -1, -1, -1, -1, -1, 1, 1],\n",
    "    [1, 1, -1, -1, -1, -1, -1, -1, 1, 1]\n",
    "   ];\n",
    "\n",
    "H = np.flipud(H)\n",
    "#mpl.pcolor(H)\n",
    "#mlp.show()"
   ]
  },
  {
   "cell_type": "code",
   "execution_count": 6,
   "metadata": {
    "collapsed": false
   },
   "outputs": [
    {
     "name": "stdout",
     "output_type": "stream",
     "text": [
      "Questo\n"
     ]
    },
    {
     "data": {
      "image/png": "[encoded data removed]",
      "text/plain": [
       "<matplotlib.figure.Figure at 0x287e0399240>"
      ]
     },
     "metadata": {},
     "output_type": "display_data"
    },
    {
     "name": "stdout",
     "output_type": "stream",
     "text": [
      "Mi ricorda questo!\n"
     ]
    },
    {
     "data": {
      "image/png": "[encoded data removed]",
      "text/plain": [
       "<matplotlib.figure.Figure at 0x287e031d710>"
      ]
     },
     "metadata": {},
     "output_type": "display_data"
    },
    {
     "data": {
      "text/plain": [
       "<function __main__.memory>"
      ]
     },
     "execution_count": 6,
     "metadata": {},
     "output_type": "execute_result"
    }
   ],
   "source": [
    "import numpy as np\n",
    "import matplotlib.pyplot as mpl\n",
    "from ipywidgets import *\n",
    "%matplotlib inline\n",
    "\n",
    "J = np.zeros((10,10,10,10))\n",
    "\n",
    "for k in range(10):\n",
    "    for l in range(10):\n",
    "        for m in range(10):\n",
    "            for n in range(10):               \n",
    "                J[k,l,m,n] = 1/4 * ( S[k,l]*S[m,n] + A[k,l]*A[m,n] + R[k,l]*R[m,n] + H[k,l]*H[m,n] )\n",
    "                \n",
    "def E(pattern):                #Adesso la chiamo E perchè il nome H è già occupato dal pattern H\n",
    "    E = 0\n",
    "    for k in range(10):\n",
    "        for l in range(10):\n",
    "            for m in range(10):\n",
    "                for n in range(10):\n",
    "                    E = E + (-J[k,l,m,n]*pattern[k,l]*pattern[m,n])\n",
    "    return E  \n",
    "                \n",
    "def memory(pattern, T, prob, max_cycles):  #Stavolta la funzione dipende anche dal pattern immesso e dalla temperatura\n",
    "                \n",
    "    simil_pattern = np.zeros((10,10))\n",
    "    \n",
    "    if pattern==1:\n",
    "        np.copyto(simil_pattern, S)\n",
    "    elif pattern==2:\n",
    "        np.copyto(simil_pattern, A)\n",
    "    elif pattern==3:\n",
    "        np.copyto(simil_pattern, R)\n",
    "    elif pattern==4:\n",
    "        np.copyto(simil_pattern, H)      \n",
    "\n",
    "    for i in range(10):\n",
    "            for j in range(10):\n",
    "\n",
    "                if np.random.randint(10) > prob:\n",
    "                    simil_pattern[i,j] = -simil_pattern[i,j]\n",
    "\n",
    "    print(\"Questo\")\n",
    "    mpl.figure()\n",
    "    mpl.pcolor(simil_pattern)\n",
    "    mpl.show()\n",
    "    mpl.close()\n",
    "    print(\"Mi ricorda questo!\")\n",
    "\n",
    "    for t in range(max_cycles):\n",
    "        for i in range(10):\n",
    "            for j in range(10):\n",
    "                E_i = E(simil_pattern)\n",
    "                simil_pattern[i,j] = -simil_pattern[i,j]\n",
    "                E_f = E(simil_pattern)\n",
    "                if E_f >= E_i:\n",
    "                    simil_pattern[i,j] = -simil_pattern[i,j]\n",
    "                elif E_f < E_i and T!=0:\n",
    "                    DE = E_f-E_i\n",
    "                    if np.exp(-1/T*DE) < np.random.rand(1, 1):\n",
    "                        simil_pattern[i,j] = -simil_pattern[i,j]            \n",
    "\n",
    "    mpl.figure()\n",
    "    mpl.pcolor(simil_pattern)\n",
    "    mpl.show()\n",
    "    mpl.close()\n",
    "\n",
    "interact(memory, pattern=(1, 4, 1), T = (0, 10, 0.1), prob = (0, 10, 1), max_cycles = (1, 10, 1) );\n",
    "\n",
    "#In questo caso è possibile scegliere quale pattern si vuole inserire. Inoltre è possibile scegliere un valore per la T"
   ]
  },
  {
   "cell_type": "markdown",
   "metadata": {
    "collapsed": true
   },
   "source": [
    "Con quattro pattern la memoria funziona molto bene, come si può vedere dal grafico interattivo. Ma se immagaziniamo dieci pattern, la memoria diventa già inservibile, come possiamo vedere nel prossimo esempio."
   ]
  },
  {
   "cell_type": "code",
   "execution_count": 5,
   "metadata": {
    "collapsed": false
   },
   "outputs": [],
   "source": [
    "import numpy as np\n",
    "import matplotlib.pyplot as mpl\n",
    "%matplotlib inline\n",
    "\n",
    "#Ancora più pattern!!\n",
    "I = [\n",
    "   [1, 1, 1, 1, -1, -1, 1, 1, 1, 1],\n",
    "   [1, 1, 1, 1, -1, -1, 1, 1, 1, 1],\n",
    "   [1, 1, 1, 1, -1, -1, 1, 1, 1, 1],\n",
    "   [1, 1, 1, 1, -1, -1, 1, 1, 1, 1],\n",
    "   [1, 1, 1, 1, -1, -1, 1, 1, 1, 1],\n",
    "   [1, 1, 1, 1, -1, -1, 1, 1, 1, 1],\n",
    "   [1, 1, 1, 1, -1, -1, 1, 1, 1, 1],\n",
    "   [1, 1, 1, 1, -1, -1, 1, 1, 1, 1],\n",
    "   [1, 1, 1, 1, -1, -1, 1, 1, 1, 1],\n",
    "   [1, 1, 1, 1, -1, -1, 1, 1, 1, 1]\n",
    "   ];\n",
    "\n",
    "I = np.flipud(I)\n",
    "#mpl.pcolor(I)\n",
    "#mpl.show()\n",
    "\n",
    "L = [\n",
    "   [1, 1, 1, 1, -1, -1, 1, 1, 1, 1],\n",
    "   [1, 1, 1, 1, -1, -1, 1, 1, 1, 1],\n",
    "   [1, 1, 1, 1, -1, -1, 1, 1, 1, 1],\n",
    "   [1, 1, 1, 1, -1, -1, 1, 1, 1, 1],\n",
    "   [1, 1, 1, 1, -1, -1, 1, 1, 1, 1],\n",
    "   [1, 1, 1, 1, -1, -1, 1, 1, 1, 1],\n",
    "   [1, 1, 1, 1, -1, -1, 1, 1, 1, 1],\n",
    "   [1, 1, 1, 1, -1, -1, 1, 1, 1, 1],\n",
    "   [1, 1, 1, 1, -1, -1, -1, -1, -1, -1],\n",
    "   [1, 1, 1, 1, -1, -1, -1, -1, -1, -1]\n",
    "   ];\n",
    "\n",
    "L = np.flipud(L)\n",
    "#mpl.pcolor(L)\n",
    "#mpl.show()\n",
    "\n",
    "V = [\n",
    "   [-1, -1, 1, 1, 1, 1, 1, 1, -1, -1],\n",
    "   [-1, -1, 1, 1, 1, 1, 1, 1, -1, -1],\n",
    "   [1, -1, -1, 1, 1, 1, 1, -1, -1, 1],\n",
    "   [1, -1, -1, 1, 1, 1, 1, -1, -1, 1],\n",
    "   [1, 1, -1, -1, 1, 1, -1, -1, 1, 1],\n",
    "   [1, 1, -1, -1, 1, 1, -1, -1, 1, 1],\n",
    "   [1, 1, 1, -1, -1, -1, -1, 1, 1, 1],\n",
    "   [1, 1, 1, -1, -1, -1, -1, 1, 1, 1],\n",
    "   [1, 1, 1, 1, -1, -1, 1, 1, 1, 1],\n",
    "   [1, 1, 1, 1, 1, 1, 1, 1, 1, 1]\n",
    "   ];\n",
    "\n",
    "V = np.flipud(V)\n",
    "#mpl.pcolor(V)\n",
    "#mpl.show()\n",
    "\n",
    "Y = [\n",
    "   [-1, -1, 1, 1, 1, 1, 1, 1, -1, -1],\n",
    "   [-1, -1, 1, 1, 1, 1, 1, 1, -1, -1],\n",
    "   [1, -1, -1, 1, 1, 1, 1, -1, -1, 1],\n",
    "   [1, -1, -1, 1, 1, 1, 1, -1, -1, 1],\n",
    "   [1, 1, -1, -1, 1, 1, -1, -1, 1, 1],\n",
    "   [1, 1, -1, -1, 1, 1, -1, -1, 1, 1],\n",
    "   [1, 1, 1, -1, -1, -1, -1, 1, 1, 1],\n",
    "   [1, 1, 1, -1, -1, -1, -1, 1, 1, 1],\n",
    "   [1, 1, 1, 1, -1, -1, 1, 1, 1, 1],\n",
    "   [1, 1, 1, 1, -1, -1, 1, 1, 1, 1]\n",
    "   ];\n",
    "\n",
    "Y = np.flipud(Y)\n",
    "#mpl.pcolor(Y)\n",
    "#mpl.show()\n",
    "\n",
    "O = [\n",
    "   [1, 1, 1, 1, -1, -1, 1, 1, 1, 1],\n",
    "   [1, 1, 1, -1, -1, -1, -1, 1, 1, 1],\n",
    "   [1, 1, -1, -1, 1, 1, -1, -1, 1, 1],\n",
    "   [1, -1, -1, 1, 1, 1, 1, -1, -1, 1],\n",
    "   [-1, -1, 1, 1, 1, 1, 1, 1, -1, -1],\n",
    "   [-1, -1, 1, 1, 1, 1, 1, 1, -1, -1],\n",
    "   [1, -1, -1, 1, 1, 1, 1, -1, -1, 1],\n",
    "   [1, 1, -1, -1, 1, 1, -1, -1, 1, 1],\n",
    "   [1, 1, 1, -1, -1, -1, -1, 1, 1, 1],\n",
    "   [1, 1, 1, 1, -1, -1, 1, 1, 1, 1]\n",
    "   ];\n",
    "\n",
    "O = np.flipud(O)\n",
    "#mpl.pcolor(O)\n",
    "#mpl.show()\n",
    "\n",
    "\n",
    "U = [\n",
    "   [-1, -1, 1, 1, 1, 1, 1, 1, -1, -1],\n",
    "   [-1, -1, 1, 1, 1, 1, 1, 1, -1, -1],\n",
    "   [-1, -1, 1, 1, 1, 1, 1, 1, -1, -1],\n",
    "   [-1, -1, 1, 1, 1, 1, 1, 1, -1, -1],\n",
    "   [-1, -1, 1, 1, 1, 1, 1, 1, -1, -1],\n",
    "   [-1, -1, 1, 1, 1, 1, 1, 1, -1, -1],\n",
    "   [1, -1, -1, 1, 1, 1, 1, -1, -1, 1],\n",
    "   [1, 1, -1, -1, 1, 1, -1, -1, 1, 1],\n",
    "   [1, 1, 1, -1, -1, -1, -1, 1, 1, 1],\n",
    "   [1, 1, 1, 1, -1, -1, 1, 1, 1, 1]\n",
    "   ];\n",
    "\n",
    "U = np.flipud(U)\n",
    "#mpl.pcolor(U)\n",
    "#mpl.show()\n",
    "\n",
    "S = [\n",
    "   [-1, -1, -1, 1, 1, 1, 1, 1, 1, -1],\n",
    "   [-1, -1, 1, 1, 1, 1, 1, 1, 1, -1],\n",
    "   [-1, 1, 1, -1, -1, -1, -1, -1, -1, -1],\n",
    "   [-1, 1, 1, -1, -1, -1, -1, -1, -1, -1],\n",
    "   [-1, 1, 1, 1, 1, 1, -1, -1, -1, -1],\n",
    "   [-1, -1, 1, 1, 1, 1, 1, 1, -1, -1],\n",
    "   [-1, -1, -1, -1, -1, -1, 1, 1, -1, -1],\n",
    "   [-1, -1, -1, -1, -1, -1, 1, 1, -1, -1],\n",
    "   [1, 1, 1, 1, 1, 1, 1, 1, -1, -1],\n",
    "   [1, 1, 1, 1, 1, 1, 1, -1, -1, -1]\n",
    "   ];\n",
    "\n",
    "S = np.flipud(S)\n",
    "#mpl.pcolor(S)\n",
    "#mpl.show()\n",
    "\n",
    "A = [\n",
    "    [-1, -1, -1, -1, 1, 1, -1, -1, -1, -1],\n",
    "    [-1, -1, -1, 1, 1, 1, 1, -1, -1, -1],\n",
    "    [-1, -1, 1, 1, -1, -1, 1, 1, -1, -1],\n",
    "    [-1, 1, 1, -1, -1, -1, -1, 1, 1, -1],\n",
    "    [-1, 1, 1, 1, 1, 1, 1, 1, 1, -1],\n",
    "    [1, 1, 1, 1, 1, 1, 1, 1, 1, 1],\n",
    "    [1, 1, 1, -1, -1, -1, -1, 1, 1, 1],\n",
    "    [1, 1, -1, -1, -1, -1, -1, -1, 1, 1],\n",
    "    [1, 1, -1, -1, -1, -1, -1, -1, 1, 1],\n",
    "    [1, 1, -1, -1, -1, -1, -1, -1, 1, 1]\n",
    "   ];\n",
    "\n",
    "A = np.flipud(A)\n",
    "#mpl.pcolor(A)\n",
    "#mpl.show()\n",
    "\n",
    "R = [\n",
    "    [-1, -1, 1, 1, 1, 1, 1, -1, -1, -1],\n",
    "    [-1, 1, 1, 1, 1, 1, 1, 1, -1, -1],\n",
    "    [1, 1, 1, -1, -1, -1, 1, 1, -1, -1],\n",
    "    [1, 1, -1, -1, 1, 1, 1, 1, -1, -1],\n",
    "    [1, 1, 1, 1, 1, 1, 1, 1, -1, -1],\n",
    "    [1, 1, 1, 1, 1, 1, -1, -1, -1, -1],\n",
    "    [1, 1, -1, -1, 1, 1, 1, -1, -1, -1],\n",
    "    [1, 1, -1, -1, -1, -1, 1, 1, -1, -1],\n",
    "    [1, 1, -1, -1, -1, -1, 1, 1, -1, -1],\n",
    "    [1, 1, -1, -1, -1, -1, 1, 1, -1, -1]\n",
    "   ];\n",
    "\n",
    "R = np.flipud(R)\n",
    "#mpl.pcolor(R)\n",
    "#mpl.show()\n",
    "\n",
    "H = [\n",
    "    [1, 1, -1, -1, -1, -1, -1, -1, 1, 1],\n",
    "    [1, 1, -1, -1, -1, -1, -1, -1, 1, 1],\n",
    "    [1, 1, -1, -1, -1, -1, -1, -1, 1, 1],\n",
    "    [1, 1, -1, -1, -1, -1, -1, -1, 1, 1],\n",
    "    [1, 1, 1, 1, 1, 1, 1, 1, 1, 1],\n",
    "    [1, 1, 1, 1, 1, 1, 1, 1, 1, 1],\n",
    "    [1, 1, -1, -1, -1, -1, -1, -1, 1, 1],\n",
    "    [1, 1, -1, -1, -1, -1, -1, -1, 1, 1],\n",
    "    [1, 1, -1, -1, -1, -1, -1, -1, 1, 1],\n",
    "    [1, 1, -1, -1, -1, -1, -1, -1, 1, 1]\n",
    "   ];\n",
    "\n",
    "H = np.flipud(H)\n",
    "#mpl.pcolor(H)\n",
    "#mlp.show()"
   ]
  },
  {
   "cell_type": "code",
   "execution_count": 6,
   "metadata": {
    "collapsed": false
   },
   "outputs": [
    {
     "name": "stdout",
     "output_type": "stream",
     "text": [
      "Questo?\n"
     ]
    },
    {
     "data": {
      "image/png": "[encoded data removed]",
      "text/plain": [
       "<matplotlib.figure.Figure at 0x23ee6d31e48>"
      ]
     },
     "metadata": {},
     "output_type": "display_data"
    },
    {
     "name": "stdout",
     "output_type": "stream",
     "text": [
      "Mi ricorda questo!\n"
     ]
    },
    {
     "data": {
      "image/png": "[encoded data removed]",
      "text/plain": [
       "<matplotlib.figure.Figure at 0x23ee75573c8>"
      ]
     },
     "metadata": {},
     "output_type": "display_data"
    }
   ],
   "source": [
    "import numpy as np\n",
    "import matplotlib.pyplot as mpl\n",
    "from ipywidgets import *\n",
    "%matplotlib inline\n",
    "\n",
    "J = np.zeros((10,10,10,10))\n",
    "\n",
    "for k in range(10):\n",
    "    for l in range(10):\n",
    "        for m in range(10):\n",
    "            for n in range(10):\n",
    "                \n",
    "                J[k,l,m,n] = 1/7 * ( S[k,l]*S[m,n] + A[k,l]*A[m,n] + R[k,l]*R[m,n] + H[k,l]*H[m,n] +\n",
    "                                    V[k,l]*V[m,n] + I[k,l]*I[m,n] + L[k,l]*L[m,n] )\n",
    "                \n",
    "def E(pattern):\n",
    "    E = 0\n",
    "    for k in range(10):\n",
    "        for l in range(10):\n",
    "            for m in range(10):\n",
    "                for n in range(10):\n",
    "                    E = E + (-J[k,l,m,n]*pattern[k,l]*pattern[m,n])\n",
    "    return E\n",
    "         \n",
    "def memory(pattern, T, prob, max_cycles):\n",
    "                \n",
    "    simil_pattern = np.zeros((10,10))\n",
    "    \n",
    "    if pattern == 1:\n",
    "        np.copyto(simil_pattern, I)\n",
    "    elif pattern == 2:\n",
    "        np.copyto(simil_pattern, L)\n",
    "    elif pattern == 3:\n",
    "        np.copyto(simil_pattern, A)\n",
    "    elif pattern == 4:\n",
    "        np.copyto(simil_pattern, V)\n",
    "    elif pattern == 5:\n",
    "        np.copyto(simil_pattern, Y)\n",
    "    elif pattern == 6:\n",
    "        np.copyto(simil_pattern, O)\n",
    "    elif pattern == 7:\n",
    "        np.copyto(simil_pattern, U) \n",
    "    elif pattern == 8:\n",
    "        np.copyto(simil_pattern, S)\n",
    "    elif pattern == 9:\n",
    "        np.copyto(simil_pattern, R)\n",
    "    elif pattern == 10:\n",
    "        np.copyto(simil_pattern, H)      \n",
    "\n",
    "    for i in range(10):\n",
    "            for j in range(10):\n",
    "                if np.random.randint(10) > prob:\n",
    "                    simil_pattern[i,j] = -simil_pattern[i,j]\n",
    "\n",
    "    print(\"Questo?\")\n",
    "    mpl.figure()\n",
    "    mpl.pcolor(simil_pattern)\n",
    "    mpl.show()\n",
    "    mpl.close()\n",
    "    print(\"Mi ricorda questo!\")\n",
    "\n",
    "    for t in range(max_cycles):\n",
    "        for i in range(10):\n",
    "            for j in range(10):\n",
    "                E_i = E(simil_pattern)\n",
    "                simil_pattern[i,j] = -simil_pattern[i,j]\n",
    "                E_f = E(simil_pattern)\n",
    "                if E_f >= E_i:\n",
    "                    simil_pattern[i,j] = -simil_pattern[i,j]\n",
    "                elif E_f < E_i and T!=0:\n",
    "                    DE = E_f-E_i\n",
    "                    if np.exp(-1/T*DE) < np.random.rand(1, 1):\n",
    "                        simil_pattern[i,j] = -simil_pattern[i,j]            \n",
    "\n",
    "    mpl.figure()\n",
    "    mpl.pcolor(simil_pattern)\n",
    "    mpl.show()\n",
    "    mpl.close()\n",
    "\n",
    "interact(memory, pattern=(1, 10, 1), T = (0, 10, 0.1), prob = (0, 10, 1), max_cycles = (1, 10, 1) );"
   ]
  },
  {
   "cell_type": "markdown",
   "metadata": {},
   "source": [
    "# Apprendimento di nuovi pattern\n",
    "\n",
    "Infine possiamo implementare un algoritmo di apprendimento, in pratica una volta immagazinate le $ J_{ij} $ dobbiamo ridefinirle seguendo l'equazione\n",
    "\n",
    "$ J_{ij}(new) = \\alpha J_{ij}(old) + \\beta s_i(m) s_j(m) $ ,\n",
    "\n",
    "dove $ s_i(m) s_j(m) $ sono le configurazioni del pattern da far apprendere mentre $ \\alpha $ e $ \\beta $ sono parametri che danno il peso alle diverse configurazioni. Vediamo cosa accade al variare dei parametri."
   ]
  },
  {
   "cell_type": "code",
   "execution_count": 7,
   "metadata": {
    "collapsed": false
   },
   "outputs": [],
   "source": [
    "import numpy as np\n",
    "import matplotlib.pyplot as mpl\n",
    "%matplotlib inline\n",
    "\n",
    "#Sisi ormai abbiamo capito, immagazziniamo i pattern...\n",
    "S = [\n",
    "   [-1, -1, -1, 1, 1, 1, 1, 1, 1, -1],\n",
    "   [-1, -1, 1, 1, 1, 1, 1, 1, 1, -1],\n",
    "   [-1, 1, 1, -1, -1, -1, -1, -1, -1, -1],\n",
    "   [-1, 1, 1, -1, -1, -1, -1, -1, -1, -1],\n",
    "   [-1, 1, 1, 1, 1, 1, -1, -1, -1, -1],\n",
    "   [-1, -1, 1, 1, 1, 1, 1, 1, -1, -1],\n",
    "   [-1, -1, -1, -1, -1, -1, 1, 1, -1, -1],\n",
    "   [-1, -1, -1, -1, -1, -1, 1, 1, -1, -1],\n",
    "   [1, 1, 1, 1, 1, 1, 1, 1, -1, -1],\n",
    "   [1, 1, 1, 1, 1, 1, 1, -1, -1, -1]\n",
    "   ];\n",
    "\n",
    "S = np.flipud(S)\n",
    "#mpl.pcolor(S)\n",
    "#mpl.show()\n",
    "\n",
    "H = [\n",
    "    [1, 1, -1, -1, -1, -1, -1, -1, 1, 1],\n",
    "    [1, 1, -1, -1, -1, -1, -1, -1, 1, 1],\n",
    "    [1, 1, -1, -1, -1, -1, -1, -1, 1, 1],\n",
    "    [1, 1, -1, -1, -1, -1, -1, -1, 1, 1],\n",
    "    [1, 1, 1, 1, 1, 1, 1, 1, 1, 1],\n",
    "    [1, 1, 1, 1, 1, 1, 1, 1, 1, 1],\n",
    "    [1, 1, -1, -1, -1, -1, -1, -1, 1, 1],\n",
    "    [1, 1, -1, -1, -1, -1, -1, -1, 1, 1],\n",
    "    [1, 1, -1, -1, -1, -1, -1, -1, 1, 1],\n",
    "    [1, 1, -1, -1, -1, -1, -1, -1, 1, 1]\n",
    "   ];\n",
    "\n",
    "H = np.flipud(H)\n",
    "#mpl.pcolor(H)\n",
    "#mlp.show()"
   ]
  },
  {
   "cell_type": "code",
   "execution_count": 15,
   "metadata": {
    "collapsed": false
   },
   "outputs": [
    {
     "name": "stdout",
     "output_type": "stream",
     "text": [
      "Questo\n"
     ]
    },
    {
     "data": {
      "image/png": "[encoded data removed]",
      "text/plain": [
       "<matplotlib.figure.Figure at 0x23ee6d43518>"
      ]
     },
     "metadata": {},
     "output_type": "display_data"
    },
    {
     "name": "stdout",
     "output_type": "stream",
     "text": [
      "Mi ricorda questo!\n"
     ]
    },
    {
     "data": {
      "image/png": "[encoded data removed]",
      "text/plain": [
       "<matplotlib.figure.Figure at 0x23ee7687e48>"
      ]
     },
     "metadata": {},
     "output_type": "display_data"
    }
   ],
   "source": [
    "import numpy as np               \n",
    "import matplotlib.pyplot as mpl   \n",
    "from ipywidgets import *\n",
    "%matplotlib inline\n",
    "\n",
    "J = np.zeros((10,10,10,10))\n",
    "\n",
    "for k in range(10):\n",
    "    for l in range(10):\n",
    "        for m in range(10):\n",
    "            for n in range(10):\n",
    "                J[k,l,m,n] = S[k,l]*S[m,n]    #Assegniamo i valori in modo da immagazzinare S\n",
    "                \n",
    "def E(pattern):\n",
    "    E = 0\n",
    "    for k in range(10):\n",
    "        for l in range(10):\n",
    "            for m in range(10):\n",
    "                for n in range(10):\n",
    "                    E = E + (-J[k,l,m,n]*pattern[k,l]*pattern[m,n])\n",
    "    return E \n",
    "\n",
    "def learning_memory(a, b, pattern, prob, max_cycles):  #Stavolta la funzione dipende dei parametri a e b (alfa e beta)\n",
    "    \n",
    "    for k in range(10):\n",
    "        for l in range(10):\n",
    "            for m in range(10):\n",
    "                for n in range(10):\n",
    "                    J[k,l,m,n] = (a*J[k,l,m,n]) + (b*H[k,l]*H[m,n])   #Speriamo apprenda\n",
    "     \n",
    "    simil_pattern = np.zeros((10,10))\n",
    "    \n",
    "    if pattern==1:\n",
    "        np.copyto(simil_pattern, S)\n",
    "    elif pattern==2:\n",
    "        np.copyto(simil_pattern, H)      \n",
    "\n",
    "    for i in range(10):\n",
    "            for j in range(10):\n",
    "                if np.random.randint(10) > prob:\n",
    "                    simil_pattern[i,j] = -simil_pattern[i,j]\n",
    "\n",
    "    print(\"Questo\")\n",
    "    mpl.figure()\n",
    "    mpl.pcolor(simil_pattern)\n",
    "    mpl.show()\n",
    "    mpl.close()\n",
    "    print(\"Mi ricorda questo!\")\n",
    "\n",
    "    for t in range(max_cycles):\n",
    "        for i in range(10):\n",
    "            for j in range(10):\n",
    "                E_i = E(simil_pattern)\n",
    "                simil_pattern[i,j] = -simil_pattern[i,j]\n",
    "                E_f = E(simil_pattern)\n",
    "                if E_f >= E_i:\n",
    "                    simil_pattern[i,j] = -simil_pattern[i,j]            \n",
    "\n",
    "    mpl.figure()\n",
    "    mpl.pcolor(simil_pattern)\n",
    "    mpl.show()\n",
    "    mpl.close()\n",
    "\n",
    "learning_memory(0.5, 0.5, 2, 2, 5)\n"
   ]
  },
  {
   "cell_type": "markdown",
   "metadata": {},
   "source": [
    "Provando l'algoritmo con diversi valori di $ \\alpha $ e $ \\beta $ notiamo che se uno di questi è zero, la rete ricorderà solo il patter il cui parametro è diverso da zero. Per valori intermedi dei parametri la rete tenderà a richiamare con maggiore frequenza quello con il parametro più elevato. Ciò E' ragionevole se pensiamo che l'equazione con cui definiamo le nuove connessioni fra neuroni non è altro che una media pesata delle connessioni dei vari pattern, a meno della divisione per la somma dei pesi. La formula per immagazzinare più pattern invece era proprio una media aritmetica delle interazioni dei pattern!"
   ]
  },
  {
   "cell_type": "markdown",
   "metadata": {},
   "source": [
    "\n",
    "# Conclusioni\n",
    "\n",
    "In conclusione, possiamo dire che una simile rete neurali è ispirata al cervello, ma si allontana molto da quest'ultimo, in altri termini il modello è troppo semplice per riprodurre le caratteristiche di un sistema così complesso. Giò con una decina di pattern la memoria è inservibile, cioè meno del limite teorico di $ 0,13 $ volte il numero di neuroni che nel nostro caso era tredici.\n",
    "L'algoritmo per l'apprendimento permette di far apprendere nuovi pattern alla rete, quindi possiamo pensare di implementare delle reti che modifichino i pesi delle varie connessioni ogni volta che gli vengono immessi degli input.\n",
    "Tale peculiarità delle reti neurali ne rende possibile l'utilizzo in numerose applicazioni, sopratutto in ambito informatico."
   ]
  }
 ],
 "metadata": {
  "kernelspec": {
   "display_name": "Python 3",
   "language": "python",
   "name": "python3"
  },
  "language_info": {
   "codemirror_mode": {
    "name": "ipython",
    "version": 3
   },
   "file_extension": ".py",
   "mimetype": "text/x-python",
   "name": "python",
   "nbconvert_exporter": "python",
   "pygments_lexer": "ipython3",
   "version": "3.5.1"
  }
 },
 "nbformat": 4,
 "nbformat_minor": 0
}
