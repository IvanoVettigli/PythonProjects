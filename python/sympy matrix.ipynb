{
 "cells": [
  {
   "cell_type": "code",
   "execution_count": 37,
   "metadata": {
    "collapsed": false
   },
   "outputs": [
    {
     "data": {
      "text/plain": [
       "Matrix([\n",
       "[                 0,                  0,                  0,                  0],\n",
       "[ 2*E2*H3 - 2*E3*H2, -2*H2**2 - 2*H3**2,            2*H1*H2,            2*H1*H3],\n",
       "[-2*E1*H3 + 2*E3*H1,            2*H1*H2, -2*H1**2 - 2*H3**2,            2*H2*H3],\n",
       "[ 2*E1*H2 - 2*E2*H1,            2*H1*H3,            2*H2*H3, -2*H1**2 - 2*H2**2]])"
      ]
     },
     "execution_count": 37,
     "metadata": {},
     "output_type": "execute_result"
    }
   ],
   "source": [
    "import sympy as sp\n",
    "\n",
    "E1, E2, E3, H1, H2, H3 = sp.symbols('E1, E2, E3, H1, H2, H3')\n",
    "\n",
    "\n",
    "g = sp.Matrix([[1,0,0,0], [0,-1,0,0], [0,0,-1,0], [0,0,0,-1]])\n",
    "F_= sp.Matrix([[0,E1,E2,E3], [-E1,0,-H3,H2], [-E2,H3,0,-H1], [-E3,-H2,H1,0]])\n",
    "F= sp.Matrix([[0,-E1,-E2,-E3], [E1,0,-H3,H2], [E2,H3,0,-H1], [E3,-H2,H1,0]])\n",
    "\n",
    "T = -g*F_*F_ - F_*F*g\n",
    "\n",
    "T\n"
   ]
  },
  {
   "cell_type": "code",
   "execution_count": null,
   "metadata": {
    "collapsed": true
   },
   "outputs": [],
   "source": []
  }
 ],
 "metadata": {
  "kernelspec": {
   "display_name": "Python 3",
   "language": "python",
   "name": "python3"
  },
  "language_info": {
   "codemirror_mode": {
    "name": "ipython",
    "version": 3
   },
   "file_extension": ".py",
   "mimetype": "text/x-python",
   "name": "python",
   "nbconvert_exporter": "python",
   "pygments_lexer": "ipython3",
   "version": "3.5.1"
  }
 },
 "nbformat": 4,
 "nbformat_minor": 0
}
