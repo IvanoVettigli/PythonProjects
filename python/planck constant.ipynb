{
 "cells": [
  {
   "cell_type": "code",
   "execution_count": 30,
   "metadata": {
    "collapsed": false
   },
   "outputs": [
    {
     "name": "stdout",
     "output_type": "stream",
     "text": [
      "B: 6.7252267145943165e-34 +/- 7.525364150318911e-35\n",
      "A: -3.1667360799019293e-19 +/- 4.23379359021342e-20\n"
     ]
    },
    {
     "data": {
      "image/png": "[encoded data removed]",
      "text/plain": [
       "<matplotlib.figure.Figure at 0x28019d1f978>"
      ]
     },
     "metadata": {},
     "output_type": "display_data"
    },
    {
     "name": "stdout",
     "output_type": "stream",
     "text": [
      "0.111897553342\n",
      "9.91566745943e-36 7.52536415032e-35\n"
     ]
    }
   ],
   "source": [
    "import numpy as np\n",
    "from matplotlib.pyplot import *\n",
    "from sklearn import datasets, linear_model\n",
    "%matplotlib inline \n",
    "\n",
    "V = [0.063, 0.164, 0.467, 0.512, 0.666]\n",
    "\n",
    "l = [611, 588, 525, 505, 472]\n",
    "\n",
    "V_ar = np.array(V)\n",
    "\n",
    "l_ar = np.array(l)\n",
    " \n",
    "V_stop = V_ar * 1.60217662*10**(-19)\n",
    "\n",
    "f = 299792458 / (l_ar*10**(-9))\n",
    "\n",
    "p, V = np.polyfit(f, V_stop, 1, cov=True)\n",
    "\n",
    "print (\"B: {} +/- {}\".format(p[0], np.sqrt(V[0][0])))\n",
    "print (\"A: {} +/- {}\".format(p[1], np.sqrt(V[1][1])))\n",
    "\n",
    "\n",
    "figure()                        #Plots the trajectory of the planets                                    \n",
    "scatter(f, V_stop)\n",
    "ylim(min(V_stop)-min(V_stop), max(V_stop)+min(V_stop))\n",
    "show()\n",
    "\n",
    "print(np.sqrt(V[0][0])/p[0])\n",
    "print(p[0] - 6.62607004*10**(-34), np.sqrt(V[0][0]) )\n"
   ]
  },
  {
   "cell_type": "code",
   "execution_count": null,
   "metadata": {
    "collapsed": true
   },
   "outputs": [],
   "source": []
  },
  {
   "cell_type": "code",
   "execution_count": null,
   "metadata": {
    "collapsed": true
   },
   "outputs": [],
   "source": []
  }
 ],
 "metadata": {
  "kernelspec": {
   "display_name": "Python 3",
   "language": "python",
   "name": "python3"
  },
  "language_info": {
   "codemirror_mode": {
    "name": "ipython",
    "version": 3
   },
   "file_extension": ".py",
   "mimetype": "text/x-python",
   "name": "python",
   "nbconvert_exporter": "python",
   "pygments_lexer": "ipython3",
   "version": "3.5.1"
  }
 },
 "nbformat": 4,
 "nbformat_minor": 0
}
