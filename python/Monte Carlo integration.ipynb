{
 "cells": [
  {
   "cell_type": "code",
   "execution_count": 5,
   "metadata": {
    "collapsed": false
   },
   "outputs": [
    {
     "name": "stdout",
     "output_type": "stream",
     "text": [
      "Numerical integration = 1.2941123363899907\n"
     ]
    }
   ],
   "source": [
    "# Numerical Integration using Monte Carlo method\n",
    "# FB - 201006137\n",
    "import math\n",
    "import random\n",
    "\n",
    "# define any function here!\n",
    "def f(x):\n",
    "    return math.cos(x)/math.sqrt(x)\n",
    "\n",
    "# define any xmin-xmax interval here! (xmin < xmax)\n",
    "xmin = 0.0001\n",
    "xmax = math.pi\n",
    "\n",
    "# find ymin-ymax\n",
    "numSteps = 1000000 # bigger the better but slower!\n",
    "ymin = f(xmin)\n",
    "ymax = ymin\n",
    "for i in range(numSteps):\n",
    "    x = xmin + (xmax - xmin) * float(i) / numSteps\n",
    "    y = f(x)\n",
    "    if y < ymin: ymin = y\n",
    "    if y > ymax: ymax = y\n",
    "\n",
    "# Monte Carlo\n",
    "rectArea = (xmax - xmin) * (ymax - ymin)\n",
    "numPoints = 1000000 # bigger the better but slower!\n",
    "ctr = 0\n",
    "for j in range(numPoints):\n",
    "    x = xmin + (xmax - xmin) * random.random()\n",
    "    y = ymin + (ymax - ymin) * random.random()\n",
    "    if math.fabs(y) <= math.fabs(f(x)):\n",
    "        if f(x) > 0 and y > 0 and y <= f(x):\n",
    "            ctr += 1 # area over x-axis is positive\n",
    "        if f(x) < 0 and y < 0 and y >= f(x):\n",
    "            ctr -= 1 # area under x-axis is negative\n",
    "\n",
    "fnArea = rectArea * float(ctr) / numPoints\n",
    "print (\"Numerical integration = \" + str(fnArea))"
   ]
  },
  {
   "cell_type": "code",
   "execution_count": null,
   "metadata": {
    "collapsed": true
   },
   "outputs": [],
   "source": []
  }
 ],
 "metadata": {
  "kernelspec": {
   "display_name": "Python 3",
   "language": "python",
   "name": "python3"
  },
  "language_info": {
   "codemirror_mode": {
    "name": "ipython",
    "version": 3
   },
   "file_extension": ".py",
   "mimetype": "text/x-python",
   "name": "python",
   "nbconvert_exporter": "python",
   "pygments_lexer": "ipython3",
   "version": "3.5.1"
  }
 },
 "nbformat": 4,
 "nbformat_minor": 0
}
