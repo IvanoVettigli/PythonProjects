{
 "cells": [
  {
   "cell_type": "markdown",
   "metadata": {},
   "source": [
    "# Jacobi identity check with SymPy\n",
    "\n",
    "The Jacoby Identity (JI) is a propriety that may be satisfied by binary operations. It is defined as follow:\n",
    "\n",
    "given a set $ S $ with an associative binary operation $ + $, the operation $ \\times $ satisfies the Jacobi identity if:\n",
    "\n",
    "$ a \\times (b \\times c) + b \\times (c \\times a) + c \\times (a \\times b) = 0 \\;\\;\\;\\;\\;\\;\\;\\;\\; \\forall \\; a,b,c \\in S $\n",
    "\n",
    "This is easy to remember if is noted that the letters just change place cyclically!\n",
    "This identity determines how an operations behaves with  respect of the elements order and has many application both in mathematics and physics. Four example will be given, the usual multiplication of real numbers, the cross product in 3-dimensional vector space, the Poisson Bracket in the space of continues function with continues derivate and the commutator operation in the space of operators.\n",
    "\n",
    "SymPy is a library that implements symbolic computations and we will see how to use it to check if a given operation satisfies the JI without making boring computations! All information and all the source code of methods and functions below are available at http://www.sympy.org/en/index.html."
   ]
  },
  {
   "cell_type": "markdown",
   "metadata": {},
   "source": [
    "## Usual multiplication of real numbers\n",
    "\n",
    "The usual multiplication of real numbers is considered, which is really simple to check also with old-fashion handwriting, anyway here it is a code that checks if the JI is satisfied!"
   ]
  },
  {
   "cell_type": "code",
   "execution_count": 30,
   "metadata": {
    "collapsed": false
   },
   "outputs": [
    {
     "data": {
      "image/png": "[encoded data removed]",
      "text/latex": [
       "$$3 a b c$$"
      ],
      "text/plain": [
       "3⋅a⋅b⋅c"
      ]
     },
     "execution_count": 30,
     "metadata": {},
     "output_type": "execute_result"
    }
   ],
   "source": [
    "#Import the sympy library and initialize a printing option, so to have more elegant output \n",
    "\n",
    "from sympy import *\n",
    "init_printing(use_unicode=True)\n",
    "\n",
    "#Tell python that the following letters are just symbols\n",
    "\n",
    "a,b,c = symbols ('a b c')\n",
    "\n",
    "simplify(a*(b*c)+b*(c*a)+c*(a*b))"
   ]
  },
  {
   "cell_type": "markdown",
   "metadata": {},
   "source": [
    "Which is the expected result, so JI is not satisfied by multiplication."
   ]
  },
  {
   "cell_type": "markdown",
   "metadata": {},
   "source": [
    "## Cross Product\n",
    "\n",
    "Given two vectors in a coordinate system $ v = (v_1, v_2, v_3) , \\;\\; w = (w_1, w_2, w_3) $ the cross product is defined as:\n",
    "\n",
    "$ v \\times w = (v_2 w_3 - v_3 w_2,\\; -(v_1 w_3 - v_3 w_1),\\; v_1 w_2 - v_2 w_1) $\n",
    "\n",
    "This operation is anti-commutative, $v\\times w = -( w\\times v) $ and depends on the orientation of the coordinate system. Actually, the result of this operation is a pseudo-vector, and not a vector [1][2]. The difference is that if we change the orientation of the coordinate system, or more intuitively if we imagine to look the system through a mirror, a (polar) vector will just be reflected while a pseudo-vector will be inverted and reflected.\n",
    "\n",
    "A physical example of pseudo-vector is the angular momentum $\\vec{L}$ of a particle that is defined as its momentum $\\vec{p}$ cross its distance $\\vec{r}$ from the rotation axis:\n",
    "\n",
    "$ \\vec{L} = \\vec{r} \\times \\vec{p}  $\n",
    "\n",
    "Another physical equation in which cross product appears is the Lorenz force, the force applied on particle of charge $q$ in motion with velocity $\\vec{v}$ in a magnetic field $\\vec{B}$\n",
    "\n",
    "$ \\vec{F_{Lorenz}} = q (\\vec{v} \\times \\vec{B}) $,\n",
    "\n",
    "and since neither the force or the velocity may be pseudo-vectors for symmetry reasons, the magnetic fields is a pseudo-vector.\n",
    "\n",
    "In the following code, python is used to check the JI and the anti-commutativity proprieties!\n",
    "\n",
    "Luckily, SymPy has a predefined function .cross() that takes as argument two vectors and returns the cross product. For simplicity sake, the vectors will be defined as column matrices with a Cartesian coordinate system implicitly assumed."
   ]
  },
  {
   "cell_type": "code",
   "execution_count": 9,
   "metadata": {
    "collapsed": false
   },
   "outputs": [
    {
     "data": {
      "image/png": "[encoded data removed]",
      "text/latex": [
       "$$\\left[\\begin{matrix}b f - c e\\\\- a f + c d\\\\a e - b d\\end{matrix}\\right]$$"
      ],
      "text/plain": [
       "⎡b⋅f - c⋅e ⎤\n",
       "⎢          ⎥\n",
       "⎢-a⋅f + c⋅d⎥\n",
       "⎢          ⎥\n",
       "⎣a⋅e - b⋅d ⎦"
      ]
     },
     "execution_count": 9,
     "metadata": {},
     "output_type": "execute_result"
    }
   ],
   "source": [
    "#Import the sympy library and initilize a printing option, so to have more elegant output \n",
    "\n",
    "from sympy import *\n",
    "init_printing(use_unicode=True)\n",
    "\n",
    "#Tell python that the following letters are just symbols\n",
    "\n",
    "a,b,c,d,e,f,g,h,i = symbols ('a b c d e f g h i')\n",
    "\n",
    "#Define three vector ([1,3]-dimensional matrix)\n",
    "\n",
    "v1 = Matrix([a, b, c])\n",
    "v2 = Matrix([d, e, f])\n",
    "v3 = Matrix([g, h, i])\n",
    "\n",
    "#See how cross product works!\n",
    "\n",
    "v1.cross(v2)"
   ]
  },
  {
   "cell_type": "code",
   "execution_count": 10,
   "metadata": {
    "collapsed": false
   },
   "outputs": [
    {
     "data": {
      "text/plain": [
       "True"
      ]
     },
     "execution_count": 10,
     "metadata": {},
     "output_type": "execute_result"
    }
   ],
   "source": [
    "#Check anticommuative propriety\n",
    "\n",
    "v1.cross(v2) == -v2.cross(v1)"
   ]
  },
  {
   "cell_type": "code",
   "execution_count": 11,
   "metadata": {
    "collapsed": false
   },
   "outputs": [
    {
     "data": {
      "image/png": "[encoded data removed]",
      "text/latex": [
       "$$\\left[\\begin{matrix}b \\left(d h - e g\\right) - c \\left(- d i + f g\\right) + e \\left(- a h + b g\\right) - f \\left(a i - c g\\right) + h \\left(a e - b d\\right) - i \\left(- a f + c d\\right)\\\\- a \\left(d h - e g\\right) + c \\left(e i - f h\\right) - d \\left(- a h + b g\\right) + f \\left(- b i + c h\\right) - g \\left(a e - b d\\right) + i \\left(b f - c e\\right)\\\\a \\left(- d i + f g\\right) - b \\left(e i - f h\\right) + d \\left(a i - c g\\right) - e \\left(- b i + c h\\right) + g \\left(- a f + c d\\right) - h \\left(b f - c e\\right)\\end{matrix}\\right]$$"
      ],
      "text/plain": [
       "⎡b⋅(d⋅h - e⋅g) - c⋅(-d⋅i + f⋅g) + e⋅(-a⋅h + b⋅g) - f⋅(a⋅i - c⋅g) + h⋅(a⋅e - b⋅\n",
       "⎢                                                                             \n",
       "⎢-a⋅(d⋅h - e⋅g) + c⋅(e⋅i - f⋅h) - d⋅(-a⋅h + b⋅g) + f⋅(-b⋅i + c⋅h) - g⋅(a⋅e - b\n",
       "⎢                                                                             \n",
       "⎣a⋅(-d⋅i + f⋅g) - b⋅(e⋅i - f⋅h) + d⋅(a⋅i - c⋅g) - e⋅(-b⋅i + c⋅h) + g⋅(-a⋅f + c\n",
       "\n",
       "d) - i⋅(-a⋅f + c⋅d)⎤\n",
       "                   ⎥\n",
       "⋅d) + i⋅(b⋅f - c⋅e)⎥\n",
       "                   ⎥\n",
       "⋅d) - h⋅(b⋅f - c⋅e)⎦"
      ]
     },
     "execution_count": 11,
     "metadata": {},
     "output_type": "execute_result"
    }
   ],
   "source": [
    "#Try the JI\n",
    "\n",
    "(v1.cross(v2.cross(v3)) + v2.cross(v3.cross(v1)) + v3.cross(v1.cross(v2)))"
   ]
  },
  {
   "cell_type": "code",
   "execution_count": 12,
   "metadata": {
    "collapsed": false
   },
   "outputs": [
    {
     "data": {
      "image/png": "[encoded data removed]",
      "text/latex": [
       "$$\\left[\\begin{matrix}0\\\\0\\\\0\\end{matrix}\\right]$$"
      ],
      "text/plain": [
       "⎡0⎤\n",
       "⎢ ⎥\n",
       "⎢0⎥\n",
       "⎢ ⎥\n",
       "⎣0⎦"
      ]
     },
     "execution_count": 12,
     "metadata": {},
     "output_type": "execute_result"
    }
   ],
   "source": [
    "#But it is not much encouraging, so we use simplify() function to make all the boring algebra work!\n",
    "\n",
    "simplify((v1.cross(v2.cross(v3)) + v2.cross(v3.cross(v1)) + v3.cross(v1.cross(v2))))"
   ]
  },
  {
   "cell_type": "markdown",
   "metadata": {},
   "source": [
    "Since $a,b,c,d,e,f,g,h,i$ are just symbols, the results is the zero vector for every triple of vector we may think of. \n",
    "And that is it. A boring computations has been avoided! A much more cumbersome computations is avoided in the next example."
   ]
  },
  {
   "cell_type": "markdown",
   "metadata": {},
   "source": [
    "## Poisson bracket\n",
    "\n",
    "Given two functions $f$ e $ g $, (with continues second derivative) that depend on the canonical variables $q_i, \\; p_i $ the Poisson Bracket are defined as:\n",
    "\n",
    "$ \\{f,g\\} = \\sum\\limits_{i=1}^N \\bigg( \\frac{\\partial f}{\\partial q_i} \\frac{\\partial g}{\\partial p_i} - \\frac{\\partial f}{\\partial p_i} \\frac{\\partial g}{\\partial q_i} \\bigg) $\n",
    "\n",
    "In classical mechanics is proved that given a physical quantity $A$ and the Hamiltonian of the system $H$, the derivative of $A$ with respect to time is given by\n",
    "\n",
    "$ \\frac{dA}{dt}=\\frac{\\partial A}{\\partial t} + \\{A,H\\} $\n",
    "\n",
    "Also, the Poisson Bracket of a constant of motion with $H$ vanishes. The interested reader may find more information in any classical mechanics, analytical mechanics or rational mechanics textbook.\n",
    "\n",
    "This time there is no predefined function for the Poisson Bracket operation, as far as I know. A very rudimentary function is implemented that given as argument two functions, just returns the i-th element of the sum. For brevity, the functions where assumed to be function of the canonical variables and no check on the arguments has been implemented."
   ]
  },
  {
   "cell_type": "code",
   "execution_count": 23,
   "metadata": {
    "collapsed": false
   },
   "outputs": [
    {
     "data": {
      "image/png": "[encoded data removed]",
      "text/latex": [
       "$$- \\frac{\\partial}{\\partial p_{i}} f{\\left (q_{i},p_{i} \\right )} \\frac{\\partial}{\\partial q_{i}} g{\\left (q_{i},p_{i} \\right )} + \\frac{\\partial}{\\partial q_{i}} f{\\left (q_{i},p_{i} \\right )} \\frac{\\partial}{\\partial p_{i}} g{\\left (q_{i},p_{i} \\right )}$$"
      ],
      "text/plain": [
       "   ∂              ∂                ∂              ∂            \n",
       "- ───(f(qᵢ, pᵢ))⋅───(g(qᵢ, pᵢ)) + ───(f(qᵢ, pᵢ))⋅───(g(qᵢ, pᵢ))\n",
       "  ∂pᵢ            ∂qᵢ              ∂qᵢ            ∂pᵢ           "
      ]
     },
     "execution_count": 23,
     "metadata": {},
     "output_type": "execute_result"
    }
   ],
   "source": [
    "#Import the required libraries\n",
    "\n",
    "from sympy import *\n",
    "init_printing(use_unicode=True)\n",
    "\n",
    "#define the functions of p and q\n",
    "\n",
    "p = Symbol('p_i')\n",
    "q = Symbol('q_i') \n",
    "f = Function('f')(q,p)\n",
    "g = Function('g')(q,p)\n",
    "h = Function('h')(q,p)\n",
    "\n",
    "\"\"\"\n",
    "Define a funcion that returns the i-th element of the sum of the Poisson Brackets\n",
    "\"\"\"\n",
    "\n",
    "def Pb(f,g):\n",
    "\n",
    "    \"\"\"\n",
    "    Given two functions the i-th element of the Poisson bracket sum is returned\n",
    "    \"\"\"\n",
    "\n",
    "    return f.diff(q)*g.diff(p) - f.diff(p)*g.diff(q)\n",
    "    \n",
    "#Check how the function works\n",
    "\n",
    "Pb(f,g) "
   ]
  },
  {
   "cell_type": "code",
   "execution_count": 24,
   "metadata": {
    "collapsed": false
   },
   "outputs": [
    {
     "data": {
      "image/png": "[encoded data removed]",
      "text/latex": [
       "$$\\left(- \\frac{\\partial}{\\partial p_{i}} f{\\left (q_{i},p_{i} \\right )} \\frac{\\partial^{2}}{\\partial p_{i}\\partial q_{i}}  g{\\left (q_{i},p_{i} \\right )} + \\frac{\\partial}{\\partial q_{i}} f{\\left (q_{i},p_{i} \\right )} \\frac{\\partial^{2}}{\\partial p_{i}^{2}}  g{\\left (q_{i},p_{i} \\right )} + \\frac{\\partial}{\\partial p_{i}} g{\\left (q_{i},p_{i} \\right )} \\frac{\\partial^{2}}{\\partial p_{i}\\partial q_{i}}  f{\\left (q_{i},p_{i} \\right )} - \\frac{\\partial}{\\partial q_{i}} g{\\left (q_{i},p_{i} \\right )} \\frac{\\partial^{2}}{\\partial p_{i}^{2}}  f{\\left (q_{i},p_{i} \\right )}\\right) \\frac{\\partial}{\\partial q_{i}} h{\\left (q_{i},p_{i} \\right )} - \\left(- \\frac{\\partial}{\\partial p_{i}} f{\\left (q_{i},p_{i} \\right )} \\frac{\\partial^{2}}{\\partial q_{i}^{2}}  g{\\left (q_{i},p_{i} \\right )} + \\frac{\\partial}{\\partial q_{i}} f{\\left (q_{i},p_{i} \\right )} \\frac{\\partial^{2}}{\\partial p_{i}\\partial q_{i}}  g{\\left (q_{i},p_{i} \\right )} + \\frac{\\partial}{\\partial p_{i}} g{\\left (q_{i},p_{i} \\right )} \\frac{\\partial^{2}}{\\partial q_{i}^{2}}  f{\\left (q_{i},p_{i} \\right )} - \\frac{\\partial}{\\partial q_{i}} g{\\left (q_{i},p_{i} \\right )} \\frac{\\partial^{2}}{\\partial p_{i}\\partial q_{i}}  f{\\left (q_{i},p_{i} \\right )}\\right) \\frac{\\partial}{\\partial p_{i}} h{\\left (q_{i},p_{i} \\right )} + \\left(\\frac{\\partial}{\\partial p_{i}} f{\\left (q_{i},p_{i} \\right )} \\frac{\\partial^{2}}{\\partial p_{i}\\partial q_{i}}  h{\\left (q_{i},p_{i} \\right )} - \\frac{\\partial}{\\partial q_{i}} f{\\left (q_{i},p_{i} \\right )} \\frac{\\partial^{2}}{\\partial p_{i}^{2}}  h{\\left (q_{i},p_{i} \\right )} - \\frac{\\partial}{\\partial p_{i}} h{\\left (q_{i},p_{i} \\right )} \\frac{\\partial^{2}}{\\partial p_{i}\\partial q_{i}}  f{\\left (q_{i},p_{i} \\right )} + \\frac{\\partial}{\\partial q_{i}} h{\\left (q_{i},p_{i} \\right )} \\frac{\\partial^{2}}{\\partial p_{i}^{2}}  f{\\left (q_{i},p_{i} \\right )}\\right) \\frac{\\partial}{\\partial q_{i}} g{\\left (q_{i},p_{i} \\right )} - \\left(\\frac{\\partial}{\\partial p_{i}} f{\\left (q_{i},p_{i} \\right )} \\frac{\\partial^{2}}{\\partial q_{i}^{2}}  h{\\left (q_{i},p_{i} \\right )} - \\frac{\\partial}{\\partial q_{i}} f{\\left (q_{i},p_{i} \\right )} \\frac{\\partial^{2}}{\\partial p_{i}\\partial q_{i}}  h{\\left (q_{i},p_{i} \\right )} - \\frac{\\partial}{\\partial p_{i}} h{\\left (q_{i},p_{i} \\right )} \\frac{\\partial^{2}}{\\partial q_{i}^{2}}  f{\\left (q_{i},p_{i} \\right )} + \\frac{\\partial}{\\partial q_{i}} h{\\left (q_{i},p_{i} \\right )} \\frac{\\partial^{2}}{\\partial p_{i}\\partial q_{i}}  f{\\left (q_{i},p_{i} \\right )}\\right) \\frac{\\partial}{\\partial p_{i}} g{\\left (q_{i},p_{i} \\right )} + \\left(- \\frac{\\partial}{\\partial p_{i}} g{\\left (q_{i},p_{i} \\right )} \\frac{\\partial^{2}}{\\partial p_{i}\\partial q_{i}}  h{\\left (q_{i},p_{i} \\right )} + \\frac{\\partial}{\\partial q_{i}} g{\\left (q_{i},p_{i} \\right )} \\frac{\\partial^{2}}{\\partial p_{i}^{2}}  h{\\left (q_{i},p_{i} \\right )} + \\frac{\\partial}{\\partial p_{i}} h{\\left (q_{i},p_{i} \\right )} \\frac{\\partial^{2}}{\\partial p_{i}\\partial q_{i}}  g{\\left (q_{i},p_{i} \\right )} - \\frac{\\partial}{\\partial q_{i}} h{\\left (q_{i},p_{i} \\right )} \\frac{\\partial^{2}}{\\partial p_{i}^{2}}  g{\\left (q_{i},p_{i} \\right )}\\right) \\frac{\\partial}{\\partial q_{i}} f{\\left (q_{i},p_{i} \\right )} - \\left(- \\frac{\\partial}{\\partial p_{i}} g{\\left (q_{i},p_{i} \\right )} \\frac{\\partial^{2}}{\\partial q_{i}^{2}}  h{\\left (q_{i},p_{i} \\right )} + \\frac{\\partial}{\\partial q_{i}} g{\\left (q_{i},p_{i} \\right )} \\frac{\\partial^{2}}{\\partial p_{i}\\partial q_{i}}  h{\\left (q_{i},p_{i} \\right )} + \\frac{\\partial}{\\partial p_{i}} h{\\left (q_{i},p_{i} \\right )} \\frac{\\partial^{2}}{\\partial q_{i}^{2}}  g{\\left (q_{i},p_{i} \\right )} - \\frac{\\partial}{\\partial q_{i}} h{\\left (q_{i},p_{i} \\right )} \\frac{\\partial^{2}}{\\partial p_{i}\\partial q_{i}}  g{\\left (q_{i},p_{i} \\right )}\\right) \\frac{\\partial}{\\partial p_{i}} f{\\left (q_{i},p_{i} \\right )}$$"
      ],
      "text/plain": [
       "⎛                     2                                 2                     \n",
       "⎜   ∂                ∂                  ∂              ∂                 ∂    \n",
       "⎜- ───(f(qᵢ, pᵢ))⋅───────(g(qᵢ, pᵢ)) + ───(f(qᵢ, pᵢ))⋅────(g(qᵢ, pᵢ)) + ───(g(\n",
       "⎜  ∂pᵢ            ∂qᵢ ∂pᵢ              ∂qᵢ               2              ∂pᵢ   \n",
       "⎝                                                     ∂pᵢ                     \n",
       "\n",
       "             2                                 2            ⎞                 \n",
       "            ∂                  ∂              ∂             ⎟  ∂              \n",
       "qᵢ, pᵢ))⋅───────(f(qᵢ, pᵢ)) - ───(g(qᵢ, pᵢ))⋅────(f(qᵢ, pᵢ))⎟⋅───(h(qᵢ, pᵢ)) -\n",
       "         ∂qᵢ ∂pᵢ              ∂qᵢ               2           ⎟ ∂qᵢ             \n",
       "                                             ∂pᵢ            ⎠                 \n",
       "\n",
       " ⎛                   2                                  2                     \n",
       " ⎜   ∂              ∂                 ∂                ∂                  ∂   \n",
       " ⎜- ───(f(qᵢ, pᵢ))⋅────(g(qᵢ, pᵢ)) + ───(f(qᵢ, pᵢ))⋅───────(g(qᵢ, pᵢ)) + ───(g\n",
       " ⎜  ∂pᵢ               2              ∂qᵢ            ∂qᵢ ∂pᵢ              ∂pᵢ  \n",
       " ⎝                 ∂qᵢ                                                        \n",
       "\n",
       "            2                                  2             ⎞                \n",
       "           ∂                 ∂                ∂              ⎟  ∂             \n",
       "(qᵢ, pᵢ))⋅────(f(qᵢ, pᵢ)) - ───(g(qᵢ, pᵢ))⋅───────(f(qᵢ, pᵢ))⎟⋅───(h(qᵢ, pᵢ)) \n",
       "             2              ∂qᵢ            ∂qᵢ ∂pᵢ           ⎟ ∂pᵢ            \n",
       "          ∂qᵢ                                                ⎠                \n",
       "\n",
       "  ⎛                   2                                 2                     \n",
       "  ⎜ ∂                ∂                  ∂              ∂                 ∂    \n",
       "+ ⎜───(f(qᵢ, pᵢ))⋅───────(h(qᵢ, pᵢ)) - ───(f(qᵢ, pᵢ))⋅────(h(qᵢ, pᵢ)) - ───(h(\n",
       "  ⎜∂pᵢ            ∂qᵢ ∂pᵢ              ∂qᵢ               2              ∂pᵢ   \n",
       "  ⎝                                                   ∂pᵢ                     \n",
       "\n",
       "             2                                 2            ⎞                 \n",
       "            ∂                  ∂              ∂             ⎟  ∂              \n",
       "qᵢ, pᵢ))⋅───────(f(qᵢ, pᵢ)) + ───(h(qᵢ, pᵢ))⋅────(f(qᵢ, pᵢ))⎟⋅───(g(qᵢ, pᵢ)) -\n",
       "         ∂qᵢ ∂pᵢ              ∂qᵢ               2           ⎟ ∂qᵢ             \n",
       "                                             ∂pᵢ            ⎠                 \n",
       "\n",
       " ⎛                 2                                  2                       \n",
       " ⎜ ∂              ∂                 ∂                ∂                  ∂     \n",
       " ⎜───(f(qᵢ, pᵢ))⋅────(h(qᵢ, pᵢ)) - ───(f(qᵢ, pᵢ))⋅───────(h(qᵢ, pᵢ)) - ───(h(q\n",
       " ⎜∂pᵢ               2              ∂qᵢ            ∂qᵢ ∂pᵢ              ∂pᵢ    \n",
       " ⎝               ∂qᵢ                                                          \n",
       "\n",
       "          2                                  2             ⎞                  \n",
       "         ∂                 ∂                ∂              ⎟  ∂               \n",
       "ᵢ, pᵢ))⋅────(f(qᵢ, pᵢ)) + ───(h(qᵢ, pᵢ))⋅───────(f(qᵢ, pᵢ))⎟⋅───(g(qᵢ, pᵢ)) + \n",
       "           2              ∂qᵢ            ∂qᵢ ∂pᵢ           ⎟ ∂pᵢ              \n",
       "        ∂qᵢ                                                ⎠                  \n",
       "\n",
       "⎛                     2                                 2                     \n",
       "⎜   ∂                ∂                  ∂              ∂                 ∂    \n",
       "⎜- ───(g(qᵢ, pᵢ))⋅───────(h(qᵢ, pᵢ)) + ───(g(qᵢ, pᵢ))⋅────(h(qᵢ, pᵢ)) + ───(h(\n",
       "⎜  ∂pᵢ            ∂qᵢ ∂pᵢ              ∂qᵢ               2              ∂pᵢ   \n",
       "⎝                                                     ∂pᵢ                     \n",
       "\n",
       "             2                                 2            ⎞                 \n",
       "            ∂                  ∂              ∂             ⎟  ∂              \n",
       "qᵢ, pᵢ))⋅───────(g(qᵢ, pᵢ)) - ───(h(qᵢ, pᵢ))⋅────(g(qᵢ, pᵢ))⎟⋅───(f(qᵢ, pᵢ)) -\n",
       "         ∂qᵢ ∂pᵢ              ∂qᵢ               2           ⎟ ∂qᵢ             \n",
       "                                             ∂pᵢ            ⎠                 \n",
       "\n",
       " ⎛                   2                                  2                     \n",
       " ⎜   ∂              ∂                 ∂                ∂                  ∂   \n",
       " ⎜- ───(g(qᵢ, pᵢ))⋅────(h(qᵢ, pᵢ)) + ───(g(qᵢ, pᵢ))⋅───────(h(qᵢ, pᵢ)) + ───(h\n",
       " ⎜  ∂pᵢ               2              ∂qᵢ            ∂qᵢ ∂pᵢ              ∂pᵢ  \n",
       " ⎝                 ∂qᵢ                                                        \n",
       "\n",
       "            2                                  2             ⎞               \n",
       "           ∂                 ∂                ∂              ⎟  ∂            \n",
       "(qᵢ, pᵢ))⋅────(g(qᵢ, pᵢ)) - ───(h(qᵢ, pᵢ))⋅───────(g(qᵢ, pᵢ))⎟⋅───(f(qᵢ, pᵢ))\n",
       "             2              ∂qᵢ            ∂qᵢ ∂pᵢ           ⎟ ∂pᵢ           \n",
       "          ∂qᵢ                                                ⎠               "
      ]
     },
     "execution_count": 24,
     "metadata": {},
     "output_type": "execute_result"
    }
   ],
   "source": [
    "#Try the JI\n",
    "\n",
    "Pb(f,Pb(g,h))+Pb(g,Pb(h,f))+Pb(h,Pb(f,g))"
   ]
  },
  {
   "cell_type": "code",
   "execution_count": 25,
   "metadata": {
    "collapsed": false
   },
   "outputs": [
    {
     "data": {
      "image/png": "[encoded data removed]",
      "text/latex": [
       "$$0$$"
      ],
      "text/plain": [
       "0"
      ]
     },
     "execution_count": 25,
     "metadata": {},
     "output_type": "execute_result"
    }
   ],
   "source": [
    "#This is almost terrifying, but luckily we have the simplify() function!\n",
    "\n",
    "simplify(Pb(f,Pb(g,h))+Pb(g,Pb(h,f))+Pb(h,Pb(f,g)))"
   ]
  },
  {
   "cell_type": "markdown",
   "metadata": {},
   "source": [
    "This time the benefit is notable. We have shown that all the elements of the sum are zeros, and we have checked the JI propriety using only the definition!"
   ]
  },
  {
   "cell_type": "markdown",
   "metadata": {},
   "source": [
    "## Commutator\n",
    "\n",
    "In quantum mechanics a physical quantity is an operator $ \\hat{A} $ that maps a physical state into another one, where a physical state is a vector in a (complex) Hilbert space. Operator can be represented by finite or infinite matrices.\n",
    "The commutator operation is defined as follows:\n",
    "\n",
    "$ [\\hat{A},\\hat{B}] = \\hat{A}\\hat{B}-\\hat{B}\\hat{A} $\n",
    "\n",
    "This operation emphasize by itself that, in general, operators do not commute. For example, a given component of the position and the velocity of a particle are operators (the resulting of a measure is an eigenvalue) that does not commute, and it can be shown [3] that a simultaneous base of eigenvector (or more precisely eigenstate) cannot be found, thus the impossibility of measuring position and velocity simultaneously, or in other words the Heisenberg uncertainty principle!\n",
    "The interested reader may find more information in any quantum mechanics textbook. In particular, [3] and [4] emphasizes analogies between classical mechanics and quantum mechanics starting from Poisson Bracket and commutator.\n",
    "This time a predefined function Commutator(,) is given with a method .doit(), which takes as argument two operators and returns the computation result. "
   ]
  },
  {
   "cell_type": "code",
   "execution_count": 26,
   "metadata": {
    "collapsed": false
   },
   "outputs": [
    {
     "data": {
      "image/png": "[encoded data removed]",
      "text/latex": [
       "$$\\left[\\hat{A},\\hat{B}\\right]$$"
      ],
      "text/plain": [
       "[\\hat{A},\\hat{B}]"
      ]
     },
     "execution_count": 26,
     "metadata": {},
     "output_type": "execute_result"
    }
   ],
   "source": [
    "#Import the required libraries\n",
    "\n",
    "from sympy import *\n",
    "from sympy.physics.quantum import *  #for using Operator() and Commutator()\n",
    "init_printing(use_unicode=True)      #for beautifull output\n",
    "\n",
    "#Define three operators\n",
    "\n",
    "A = Operator('\\hat{A}')              #The output is LaTex-like\n",
    "B = Operator('\\hat{B}')\n",
    "C = Operator('\\hat{C}')\n",
    "\n",
    "#See what Commutator() does \n",
    "\n",
    "Commutator(A,B) #Just printes the commutator with brackets notations"
   ]
  },
  {
   "cell_type": "code",
   "execution_count": 27,
   "metadata": {
    "collapsed": false
   },
   "outputs": [
    {
     "data": {
      "image/png": "[encoded data removed]",
      "text/latex": [
       "$$\\hat{A} \\hat{B} - \\hat{B} \\hat{A}$$"
      ],
      "text/plain": [
       "\\hat{A}⋅\\hat{B} - \\hat{B}⋅\\hat{A}"
      ]
     },
     "execution_count": 27,
     "metadata": {},
     "output_type": "execute_result"
    }
   ],
   "source": [
    "#Use the metod doit to evaluate the commutator\n",
    "\n",
    "com = Commutator(A,B)\n",
    "com.doit()"
   ]
  },
  {
   "cell_type": "code",
   "execution_count": 28,
   "metadata": {
    "collapsed": false
   },
   "outputs": [
    {
     "data": {
      "image/png": "[encoded data removed]",
      "text/latex": [
       "$$- \\left(\\hat{A} \\hat{B} - \\hat{B} \\hat{A}\\right) \\hat{C} - \\hat{C} \\left(\\hat{A} \\hat{B} - \\hat{B} \\hat{A}\\right) - \\left(\\hat{B} \\hat{C} - \\hat{C} \\hat{B}\\right) \\hat{A} - \\hat{A} \\left(\\hat{B} \\hat{C} - \\hat{C} \\hat{B}\\right) + \\left(\\hat{A} \\hat{C} - \\hat{C} \\hat{A}\\right) \\hat{B} - \\hat{B} \\left(\\hat{A} \\hat{C} - \\hat{C} \\hat{A}\\right)$$"
      ],
      "text/plain": [
       "-(\\hat{A}⋅\\hat{B} - \\hat{B}⋅\\hat{A})⋅\\hat{C} - \\hat{C}⋅(\\hat{A}⋅\\hat{B} - \\hat\n",
       "{B}⋅\\hat{A}) - (\\hat{B}⋅\\hat{C} - \\hat{C}⋅\\hat{B})⋅\\hat{A} - \\hat{A}⋅(\\hat{B}⋅\n",
       "\\hat{C} - \\hat{C}⋅\\hat{B}) + (\\hat{A}⋅\\hat{C} - \\hat{C}⋅\\hat{A})⋅\\hat{B} - \\ha\n",
       "t{B}⋅(\\hat{A}⋅\\hat{C} - \\hat{C}⋅\\hat{A})"
      ]
     },
     "execution_count": 28,
     "metadata": {},
     "output_type": "execute_result"
    }
   ],
   "source": [
    "#Let us define the identity\n",
    "\n",
    "Ji = Commutator(A,Commutator(B,C))+Commutator(B,Commutator(C,A))+Commutator(C,Commutator(A,B))\n",
    "\n",
    "Ji.doit()"
   ]
  },
  {
   "cell_type": "code",
   "execution_count": 29,
   "metadata": {
    "collapsed": false
   },
   "outputs": [
    {
     "data": {
      "image/png": "[encoded data removed]",
      "text/latex": [
       "$$0$$"
      ],
      "text/plain": [
       "0"
      ]
     },
     "execution_count": 29,
     "metadata": {},
     "output_type": "execute_result"
    }
   ],
   "source": [
    "#as before, we need the simplify function\n",
    "\n",
    "Ji = Commutator(A,Commutator(B,C))+Commutator(B,Commutator(C,A))+Commutator(C,Commutator(A,B))\n",
    "\n",
    "simplify(Ji.doit())"
   ]
  },
  {
   "cell_type": "markdown",
   "metadata": {},
   "source": [
    "As we wanted to show."
   ]
  },
  {
   "cell_type": "markdown",
   "metadata": {
    "collapsed": true
   },
   "source": [
    "## Bibliography\n",
    "\n",
    "[1] Classical Mechanics of Herbert Goldstein, Charles P. Poole Jr., John L. Safko.\n",
    "\n",
    "[2] Classical Mechanics with Mathematica of Antonio Romano.\n",
    "\n",
    "[3] Principles of quantum mechanics of P.A.M. Dirac.\n",
    "\n",
    "[4] Modern quantum mechanics of Sakurai and Napolitano."
   ]
  }
 ],
 "metadata": {
  "kernelspec": {
   "display_name": "Python 3",
   "language": "python",
   "name": "python3"
  },
  "language_info": {
   "codemirror_mode": {
    "name": "ipython",
    "version": 3
   },
   "file_extension": ".py",
   "mimetype": "text/x-python",
   "name": "python",
   "nbconvert_exporter": "python",
   "pygments_lexer": "ipython3",
   "version": "3.5.1"
  }
 },
 "nbformat": 4,
 "nbformat_minor": 0
}
