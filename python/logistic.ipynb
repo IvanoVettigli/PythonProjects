{
 "cells": [
  {
   "cell_type": "code",
   "execution_count": null,
   "metadata": {
    "collapsed": false
   },
   "outputs": [],
   "source": [
    "%matplotlib inline\n",
    "from ipywidgets import *\n",
    "from sympy import *\n",
    "\n",
    "x, y, z = symbols(' x y z ')\n",
    "init_printing(use_unicode=True)\n",
    "\n",
    "def logistic(a):\n",
    "    y = a*x*(1-x)\n",
    "    plot(y, x, xlim = (0., 1.), ylim = (0., 1.))\n",
    "  \n",
    "interact(logistic, a = (0., 4., 0.1));\n"
   ]
  },
  {
   "cell_type": "code",
   "execution_count": 1,
   "metadata": {
    "collapsed": false,
    "scrolled": true
   },
   "outputs": [
    {
     "data": {
      "image/png": "[encoded data removed]",
      "text/plain": [
       "<matplotlib.figure.Figure at 0x293a6136400>"
      ]
     },
     "metadata": {},
     "output_type": "display_data"
    }
   ],
   "source": [
    "from numpy import arange\n",
    "import matplotlib.pyplot as mpl\n",
    "from ipywidgets import *\n",
    "% matplotlib inline\n",
    "\n",
    "\n",
    "N = 1000;\n",
    "x = [0]\n",
    "y = []\n",
    "xplot=[]\n",
    "yplot=[x[0]]\n",
    "\n",
    "\n",
    "def grow(a, x_in):\n",
    "    \n",
    "    u = arange(0., 1., 0.01)\n",
    "    v = a*u*(1-u)\n",
    "    \n",
    "    x[0] = x_in\n",
    "    \n",
    "    for n in range(N):\n",
    "        \n",
    "        y.append(a*x[n]*(1-x[n]))\n",
    "        if n>1 and abs(y[n]-y[n-1])<0.1:\n",
    "            break\n",
    "        if n<N-1:\n",
    "            x.append(y[n])\n",
    "\n",
    "            \n",
    "    for i in range(len(x)):\n",
    "        \n",
    "        xplot.append(x[i])\n",
    "        xplot.append(x[i])\n",
    "        \n",
    "        yplot.append(y[i])\n",
    "        yplot.append(y[i])\n",
    "        \n",
    "    if len(xplot)>len(yplot):\n",
    "        xplot.pop()\n",
    "    elif len(yplot)>len(xplot):\n",
    "        yplot.pop()\n",
    "        \n",
    "    mpl.figure()\n",
    "    mpl.plot(u,u)\n",
    "    mpl.plot(u,v)\n",
    "    #mpl.plot(xplot,yplot)\n",
    "    mpl.grid()\n",
    "    mpl.show\n",
    "    \n",
    "interact(grow, a=(0., 4., 0.1), x_in=(0., 1., 0.1));\n"
   ]
  },
  {
   "cell_type": "code",
   "execution_count": 4,
   "metadata": {
    "collapsed": false
   },
   "outputs": [
    {
     "name": "stdout",
     "output_type": "stream",
     "text": [
      "Watch out, no convergence still! it happens if a >=3 \n"
     ]
    },
    {
     "data": {
      "image/png": "[encoded data removed]",
      "text/plain": [
       "<matplotlib.figure.Figure at 0x20ae84158d0>"
      ]
     },
     "metadata": {},
     "output_type": "display_data"
    }
   ],
   "source": [
    "from numpy import arange\n",
    "import matplotlib.pyplot as mpl\n",
    "from ipywidgets import *\n",
    "% matplotlib inline\n",
    "\n",
    "\n",
    "N = 1000;\n",
    "x = [0]\n",
    "y = []\n",
    "xplot=[]\n",
    "yplot=[x[0]]\n",
    "\n",
    "\n",
    "def grow(a, x_in):\n",
    "    \n",
    "    u = arange(0., 1., 0.01)\n",
    "    v = a*u*(1-u)\n",
    "    \n",
    "    x[0] = x_in\n",
    "    \n",
    "    for n in range(N):\n",
    "        \n",
    "        y.append(a*x[n]*(1-x[n]))\n",
    "        if n>1 and abs(y[n]-y[n-1])<0.001:\n",
    "            break\n",
    "        if n<N-1:\n",
    "            x.append(y[n])\n",
    "        if n == N-1:\n",
    "            print('Watch out, no convergence still! it happens if a >=3 ');\n",
    "\n",
    "            \n",
    "    for i in range(len(x)):\n",
    "        \n",
    "        xplot.append(x[i])\n",
    "        xplot.append(x[i])\n",
    "        \n",
    "        yplot.append(y[i])\n",
    "        yplot.append(y[i])\n",
    "        \n",
    "    if len(xplot)>len(yplot):\n",
    "        xplot.pop()\n",
    "    elif len(yplot)>len(xplot):\n",
    "        yplot.pop()\n",
    "        \n",
    "    mpl.figure()\n",
    "    mpl.plot(u,u)\n",
    "    mpl.plot(u,v)\n",
    "    mpl.plot(xplot,yplot)\n",
    "    mpl.grid()\n",
    "    mpl.show\n",
    "\n",
    "grow(3.5, 0.9)\n"
   ]
  },
  {
   "cell_type": "code",
   "execution_count": null,
   "metadata": {
    "collapsed": false
   },
   "outputs": [],
   "source": [
    "from numpy import arange\n",
    "from random import randint\n",
    "import matplotlib.pyplot as mpl\n",
    "from ipywidgets import *\n",
    "% matplotlib inline\n",
    "\n",
    "\n",
    "spacing = 100000 \n",
    "N = 1000\n",
    "aplot=arange(0., 4., 1/spacing)\n",
    "map=[]\n",
    "\n",
    "def logmap(a, x_in):\n",
    "    \n",
    "    x[0] = x_in\n",
    "    \n",
    "    for n in range(N):\n",
    "        \n",
    "        y.append(a*x[n]*(1-x[n]))\n",
    "        if n>1 and abs(y[n]-y[n-1])<0.00001:\n",
    "            break\n",
    "        if n<N-1:\n",
    "            x.append(y[n])\n",
    "    \n",
    "    if len(y)>20:\n",
    "        map.append(y[len(y)-1-randint(1,10)])\n",
    "    elif len(y)<=20:\n",
    "        map.append(y[len(y)-1])\n",
    "    \n",
    "for i in range(4*spacing):\n",
    "    x = [0]\n",
    "    y = []\n",
    "    logmap(i/spacing, 0.2);\n",
    "\n",
    "mpl.figure()\n",
    "mpl.scatter(aplot, map, s=.01)\n",
    "mpl.grid()\n",
    "mpl.show()\n"
   ]
  },
  {
   "cell_type": "code",
   "execution_count": null,
   "metadata": {
    "collapsed": false
   },
   "outputs": [],
   "source": [
    "from numpy import arange\n",
    "from random import randint\n",
    "import matplotlib.pyplot as mpl\n",
    "from ipywidgets import *\n",
    "#% matplotlib inline\n",
    "\n",
    "\n",
    "spacing = 10000 \n",
    "N = 1000\n",
    "aplot=arange(0., 4., 1/spacing)\n",
    "map=[]\n",
    "\n",
    "def logmap(a, x_in):\n",
    "    \n",
    "    x[0] = x_in\n",
    "    \n",
    "    for n in range(N):\n",
    "        \n",
    "        y.append(a*x[n]*(1-x[n]))\n",
    "        if n>1 and abs(y[n]-y[n-1])<0.00001:\n",
    "            break\n",
    "        if n<N-1:\n",
    "            x.append(y[n])\n",
    "    \n",
    "    if len(y)>500:\n",
    "        map.append(y[len(y)-1-randint(1,500)])\n",
    "    elif len(y)<=500:\n",
    "        map.append(y[len(y)-1])\n",
    "    \n",
    "for i in range(4*spacing):\n",
    "    x = [0]\n",
    "    y = []\n",
    "    logmap(i/spacing, 0.9);\n",
    "\n",
    "mpl.figure()\n",
    "mpl.scatter(aplot, map, s=.01)\n",
    "mpl.grid()\n",
    "mpl.show()\n"
   ]
  },
  {
   "cell_type": "code",
   "execution_count": 1,
   "metadata": {
    "collapsed": false
   },
   "outputs": [],
   "source": [
    "from numpy import arange\n",
    "from random import randint\n",
    "import matplotlib.pyplot as mpl\n",
    "from ipywidgets import *\n",
    "#% matplotlib inline\n",
    "\n",
    "iteration=100\n",
    "spacing = 500\n",
    "N = 1000\n",
    "aplot=arange(0., 4., 1/spacing)\n",
    "\n",
    "def logmap(a, x_in):\n",
    "    \n",
    "    x[0] = x_in\n",
    "    \n",
    "    for n in range(N):\n",
    "        \n",
    "        y.append(a*x[n]*(1-x[n]))\n",
    "        if n>1 and abs(y[n]-y[n-1])<0.00001:\n",
    "            break\n",
    "        if n<N-1:\n",
    "            x.append(y[n])\n",
    "    \n",
    "    if len(y)>500:\n",
    "        map.append(y[len(y)-1-randint(1,500)])\n",
    "    elif len(y)<=500:\n",
    "        map.append(y[len(y)-1])\n",
    "        \n",
    "        \n",
    "mpl.figure()\n",
    "for iter in range(iteration):\n",
    "\n",
    "    map=[]\n",
    "    for i in range(4*spacing):\n",
    "        x = [0]\n",
    "        y = []\n",
    "        logmap(i/spacing, 0.2);\n",
    "\n",
    "    mpl.scatter(aplot, map, s=.01)\n",
    "\n",
    "mpl.grid()\n",
    "mpl.show()\n"
   ]
  },
  {
   "cell_type": "code",
   "execution_count": null,
   "metadata": {
    "collapsed": true
   },
   "outputs": [],
   "source": []
  },
  {
   "cell_type": "code",
   "execution_count": null,
   "metadata": {
    "collapsed": true
   },
   "outputs": [],
   "source": []
  }
 ],
 "metadata": {
  "kernelspec": {
   "display_name": "Python 3",
   "language": "python",
   "name": "python3"
  },
  "language_info": {
   "codemirror_mode": {
    "name": "ipython",
    "version": 3
   },
   "file_extension": ".py",
   "mimetype": "text/x-python",
   "name": "python",
   "nbconvert_exporter": "python",
   "pygments_lexer": "ipython3",
   "version": "3.5.1"
  }
 },
 "nbformat": 4,
 "nbformat_minor": 0
}
