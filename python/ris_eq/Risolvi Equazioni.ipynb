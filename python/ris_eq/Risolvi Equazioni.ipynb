{
 "cells": [
  {
   "cell_type": "code",
   "execution_count": 7,
   "metadata": {
    "collapsed": false
   },
   "outputs": [
    {
     "name": "stdout",
     "output_type": "stream",
     "text": [
      " \n",
      " Ciao! io sono un programma comodo e risolverò per te         un'equazione, ma a patto che sia nella forma ax^2+bx+c=0\n",
      " Quanto vale a? 10\n",
      " E b? 5\n",
      " last but not least, c? 1\n",
      " \n",
      " Le soluzioni immaginarie sono \n",
      " x1 =  (-0.25-0.19364916731037085j) \n",
      " x2 =  (-0.25+0.19364916731037085j)\n",
      " \n",
      " Vuoi il grafico della parabola intorno al vertice? si\n"
     ]
    },
    {
     "data": {
      "image/png": "[encoded data removed]",
      "text/plain": [
       "<matplotlib.figure.Figure at 0x20482e30ba8>"
      ]
     },
     "metadata": {},
     "output_type": "display_data"
    },
    {
     "name": "stdout",
     "output_type": "stream",
     "text": [
      "programma terminato comodamente!\n"
     ]
    }
   ],
   "source": [
    "from Discriminante_positivo import discriminante_positivo\n",
    "from Discriminante_negativo import discriminante_negativo\n",
    "from Discriminante_nullo import discriminante_nullo\n",
    "from Grafico import grafico\n",
    "import LeggiEquazione\n",
    "%matplotlib inline\n",
    "\n",
    "l = LeggiEquazione.Leggi()\n",
    "\n",
    "delta = l.b**2-4*l.a*l.c\n",
    "\n",
    "if delta < 0:\n",
    "    discriminante_negativo(l.a, l.b, delta)\n",
    "elif delta == 0:\n",
    "    discriminante_nullo(l.a, l.b, l.c, delta)\n",
    "else:\n",
    "    discriminante_positivo(l.a, l.b, delta)\n",
    "\n",
    "valore = input(\" \\n Vuoi il grafico della parabola intorno al vertice? \")\n",
    "if \"Si\" == valore or \"si\" == valore:\n",
    "    grafico(l.a, l.b, l.c)\n",
    "    print(\"programma terminato comodamente!\")\n",
    "else:\n",
    "    print(\" \\n programma terminato, grazie di aver usato un prodotto della \\\n",
    "    programmi comodi corporation!\")"
   ]
  },
  {
   "cell_type": "code",
   "execution_count": 2,
   "metadata": {
    "collapsed": true
   },
   "outputs": [],
   "source": [
    "import sys\n",
    "\n",
    "class Leggi(object):\n",
    "\n",
    "    def __init__(self):      \n",
    "\n",
    "        \"\"\"Legge i coefficienti di un'equazione\"\"\"\n",
    "        \n",
    "        print(\" \\n Ciao! io sono un programma comodo e risolverò per te \\\n",
    "        un'equazione, ma a patto che sia nella forma ax^2+bx+c=0\")\n",
    "\n",
    "        self.a = float(input(\" Quanto vale a? \"))\n",
    "        if self.a != 0:\n",
    "            self.b = float(input(\" E b? \"))\n",
    "            self.c = float(input(\" last but not least, c? \"))\n",
    "        else:\n",
    "            sys.exit('a non può essere uguale a zero,\\\n",
    "            tu stai cercando di imborgliarmi! \\n programma terminato')"
   ]
  },
  {
   "cell_type": "code",
   "execution_count": 3,
   "metadata": {
    "collapsed": true
   },
   "outputs": [],
   "source": [
    "import matplotlib.pyplot as mpl\n",
    "\n",
    "def grafico(a, b, c):\n",
    "    \"\"\"\n",
    "    Fa il grafico della parabola\n",
    "    \"\"\"\n",
    "\n",
    "    xi = []\n",
    "    yi = []\n",
    "    Vx = -b/(2*a)\n",
    "\n",
    "    for j in range(10, 0, -1):\n",
    "        xi.append(Vx-j)\n",
    "        yi.append(a*xi[10-j]**2+b*xi[10-j]+c)\n",
    "    xi.append(Vx)\n",
    "    yi.append(a*xi[10]**2+b*xi[10]+c)\n",
    "    for j in range(0, 11, 1):\n",
    "         xi.append(Vx+j)\n",
    "         yi.append(a*xi[11+j]**2+b*xi[11+j]+c)\n",
    "    mpl.plot(xi, yi)\n",
    "    mpl.grid()\n",
    "    mpl.show()"
   ]
  },
  {
   "cell_type": "code",
   "execution_count": 4,
   "metadata": {
    "collapsed": true
   },
   "outputs": [],
   "source": [
    "import cmath\n",
    "\n",
    "def discriminante_negativo(a, b, delta):\n",
    "\n",
    "    \"\"\"Risolve equazioni di secondo grado con determinante negativo\"\"\"\n",
    "\n",
    "    ix1 = (-b - cmath.sqrt(delta))/(2*a)\n",
    "    ix2 = (-b + cmath.sqrt(delta))/(2*a)\n",
    "\n",
    "    print(\" \\n Le soluzioni immaginarie sono\", \"\\n x1 = \" \\\n",
    "    , ix1, \"\\n x2 = \", ix2)"
   ]
  },
  {
   "cell_type": "code",
   "execution_count": 5,
   "metadata": {
    "collapsed": true
   },
   "outputs": [],
   "source": [
    "def discriminante_nullo(a, b, c, delta):\n",
    "\n",
    "    \"\"\"Risovle equazioni di secondo grado con discriminante nullo\"\"\"\n",
    "\n",
    "    x = -b/(2*a)\n",
    "    print(\"\\n Il discriminante è nullo, ho trovato due soluzioni coincidenti! \\n x= \", x)\n"
   ]
  },
  {
   "cell_type": "code",
   "execution_count": 6,
   "metadata": {
    "collapsed": true
   },
   "outputs": [],
   "source": [
    "import math\n",
    "\n",
    "def discriminante_positivo(a, b, delta):\n",
    "\n",
    "    \"\"\"Risolve equazioni di secondo grado con discriminante positivo\"\"\"\n",
    "\n",
    "    x1 = (-b - math.sqrt(delta))/(2*a)\n",
    "    x2 = (-b + math.sqrt(delta))/(2*a)\n",
    "    print(\"\\nIl discriminante è positivo, ho trovato due soluzioni \\n x1= \", x1, \" \\n x2= \", x2)\n"
   ]
  }
 ],
 "metadata": {
  "kernelspec": {
   "display_name": "Python 3",
   "language": "python",
   "name": "python3"
  },
  "language_info": {
   "codemirror_mode": {
    "name": "ipython",
    "version": 3
   },
   "file_extension": ".py",
   "mimetype": "text/x-python",
   "name": "python",
   "nbconvert_exporter": "python",
   "pygments_lexer": "ipython3",
   "version": "3.5.1"
  }
 },
 "nbformat": 4,
 "nbformat_minor": 0
}
