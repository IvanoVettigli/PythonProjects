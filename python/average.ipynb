{
 "cells": [
  {
   "cell_type": "code",
   "execution_count": 1,
   "metadata": {
    "collapsed": false
   },
   "outputs": [
    {
     "name": "stdout",
     "output_type": "stream",
     "text": [
      "28.102564102564102\n",
      "103.04273504273505\n",
      "109.04273504273505\n"
     ]
    }
   ],
   "source": [
    "m=(30*8+30*8+30*6+30*6+28*9+25*8+30*10+30*6+20*9+30*8)/(8+8+6+6+9+8+10+6+9+8)\n",
    "v=m/30*110\n",
    "print(m)\n",
    "print(v)\n",
    "print(v+6)"
   ]
  },
  {
   "cell_type": "code",
   "execution_count": null,
   "metadata": {
    "collapsed": true
   },
   "outputs": [],
   "source": []
  }
 ],
 "metadata": {
  "kernelspec": {
   "display_name": "Python 3",
   "language": "python",
   "name": "python3"
  },
  "language_info": {
   "codemirror_mode": {
    "name": "ipython",
    "version": 3
   },
   "file_extension": ".py",
   "mimetype": "text/x-python",
   "name": "python",
   "nbconvert_exporter": "python",
   "pygments_lexer": "ipython3",
   "version": "3.5.1"
  }
 },
 "nbformat": 4,
 "nbformat_minor": 1
}
