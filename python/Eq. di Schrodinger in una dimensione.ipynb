{
 "cells": [
  {
   "cell_type": "markdown",
   "metadata": {},
   "source": [
    "# Eq. di Schrodinger in una dimensione"
   ]
  },
  {
   "cell_type": "markdown",
   "metadata": {},
   "source": [
    "Considerare l'equazione\n",
    "\n",
    "$$ \\frac{d^2 \\psi}{dx^2} = \\frac {2m}{\\hbar ^2}[V(x)-E]\\psi (x) $$\n",
    "\n",
    "con il potenziale\n",
    "\n",
    "$$ V(x) = \n",
    "    \\begin{cases}\n",
    "        0,& \\text{se }  -L/2 < x < L/2\\\\\n",
    "        \\infty,              & \\text{altrimenti}\n",
    "    \\end{cases} $$\n",
    "\n",
    "Scegliendo le unità di misura della lunghezza $ l_0 = L/2 $ e dell’energia $ e_0 = \\frac{ 2 \\hbar ^2}{mL^2}$, ed esprimendo $ x $ ed $ E $ in tali unità di misura, il fattore $ \\frac {2m}{\\hbar ^2} $ e la semilarghezza $ L/2 $ possono essere posti uguale a uno. Ponendo $ y_1(x) = ψ(x) $, $ y_2(x) = \\frac{dψ(x)}{dx} $, l’eq diventa per $ −1 < x < 1 $\n",
    "\n",
    "$$ \\frac{dy_1}{dx} = y_2(x) $$\n",
    "\n",
    "$$ \\frac{dy_2}{dx} = -Ey_1(x) $$\n",
    "\n",
    "con le condizioni al contorno $ y_1(−1) = y_1(1) = 0 $.\n",
    "Porre $ y_1(−1) = 0 $, $ y_2(−1) = 1 $, e risolvere con il metodo Runge-Kutta le equazioni. Gli autovalori dell’energia $ E $ sono i valori di $ E $ tali che $ y_1(1) = 0 $.\n",
    "Fare un grafico del valore di $ y_1(1) $ in funzione di $ E $. Verificare che gli zeri della funzione (gli autovalori dell’energia) hanno approssimativamente i valori calcolabili analiticamente, ovvero in unità di $ \\frac{ 2 \\hbar ^2}{mL^2} $\n",
    "\n",
    "$$ E = \\frac{\\pi ^2 n^2}{4}, \\; \\; \\; |; n \\in \\mathbb{N} $$\n",
    "\n",
    "dove $ n $ dispari (pari) corrisponde a una soluzione pari (dispari).\n",
    "N.B: Le soluzioni pari hanno $ y_2(0) = 0 $, quelle dispari $ y_1(0) = 0 $. Sfruttando questa circostanza è possibile risolvere le equazioni solo nell’intervallo $ −1 < x < 0 $, e identificando gli autovalori pari (dispari) dalle condizioni $ y_2(0) = 0 $, $y_1(0) = 0 $.\n",
    "\n"
   ]
  },
  {
   "cell_type": "code",
   "execution_count": 30,
   "metadata": {
    "collapsed": false
   },
   "outputs": [
    {
     "name": "stdout",
     "output_type": "stream",
     "text": [
      "[0.0, 0.012598899727651602, 0.0203955989104756, 0.033390097549620634, 0.061582395643270615, 0.12497249318777648, 0.24356039020443632, 0.43734608668053454, 0.7463295825709508, 1.190510877902625]\n"
     ]
    },
    {
     "data": {
      "image/png": "[encoded data removed]"
     },
     "metadata": {},
     "output_type": "display_data"
    },
    {
     "data": {
      "image/png": "[encoded data removed]"
     },
     "metadata": {},
     "output_type": "display_data"
    }
   ],
   "source": [
    "%matplotlib inline    \n",
    "                                                          #Comando magico, permette di stampare i risultati nel notebook\n",
    "import matplotlib.pyplot as mpl\n",
    "import math                                               #Importa le librerie necessarie\n",
    "import numpy\n",
    "\n",
    "E_n_vero = []                                             #Calcola i valori ottenuti analiticamente\n",
    "\n",
    "for n in range(10):\n",
    "    \n",
    "    E_n_vero.append((math.pi * math.pi * n * n)/4)\n",
    "\n",
    "\n",
    "E_n = [0]                                                #Definisce liste e variabili indispensabili!\n",
    "\n",
    "E = [0]\n",
    "dE = 0.01\n",
    "\n",
    "yE= [0]\n",
    "\n",
    "\n",
    "for j in range(1, 30000):                                #Il ciclo interno risolve l'equazione, quello esterno fa si che\n",
    "    \n",
    "    h = 0.01                                             #Venga risolta per pi valori di E\n",
    "    x = [-1]\n",
    "        \n",
    "    y1 = [0]\n",
    "    y2 = [1]\n",
    "\n",
    "    \n",
    "    for i in range(1, 201):\n",
    "        \n",
    "        \n",
    "        k1y1 = y2[i-1]                                    #Se non lo fai al quarto ordine non sei nessuno!\n",
    "        k1y2 = -E[j-1]*y1[i-1]\n",
    "\n",
    "        k2y1 = y2[i-1]+h*0.5*k1y2\n",
    "        k2y2 = -E[j-1]*y1[i-1]-h*0.5*k1y1\n",
    "\n",
    "        k3y1 = y2[i-1]+h*0.5*k2y2\n",
    "        k3y2 = -E[j-1]*y1[i-1]-h*0.5*k2y1\n",
    "\n",
    "        k4y1 = y2[i-1]+h*0.5*k3y2\n",
    "        k4y2 = -E[j-1]*y1[i-1]-h*0.5*k3y1\n",
    "\n",
    "        y1.append(y1[i-1]+h/6*(k1y1+2*k2y1+2*k3y1+k4y1))\n",
    "        y2.append(y2[i-1]+h/6*(k1y2+2*k2y2+2*k3y2+k4y2))\n",
    "    \n",
    "        x.append(x[i-1] + h)\n",
    "        \n",
    "                    \n",
    "    yE.append(y1[200])                                    #Conserva i valori della soluzione in x=1\n",
    "\n",
    "    E.append(E[j-1] + dE)\n",
    "        \n",
    "\n",
    "    if ((yE[j-1] > 0 and yE[j] < 0) or (yE[j-1] < 0 and yE[j] > 0)) :\n",
    "            \n",
    "        E_n.append(E[j-1] + dE)                          #Se la funzione cambia segno, è un autovalore!\n",
    "                                                         #Lo zero è nelle definizioni delle liste!\n",
    "                                                         #Si potrebbe migliorare la stima di E_n, ma tanto è solo\n",
    "                                                         #una verifica approssimativa!!           \n",
    "            \n",
    "            \n",
    "if (len(E_n) <= len(E_n_vero)):                          #Trova il vettore più corto...\n",
    "    \n",
    "    minimo = len(E_n)\n",
    "    \n",
    "else:\n",
    "    \n",
    "    minimo = len(E_n_vero)\n",
    "    \n",
    "\n",
    "R = []    \n",
    "    \n",
    "for k in range(minimo):                                  #Trova le differenze\n",
    "    \n",
    "    R.append(E_n[k] - E_n_vero[k])\n",
    "\n",
    "\n",
    "print(R)\n",
    "\n",
    "mpl.figure()\n",
    "mpl.plot(E, yE)\n",
    "mpl.grid()\n",
    "\n",
    "mpl.figure()        \n",
    "mpl.plot(E_n_vero)\n",
    "mpl.plot(E_n)\n",
    "mpl.grid()\n",
    "\n",
    "mpl.show()"
   ]
  }
 ],
 "metadata": {
  "kernelspec": {
   "display_name": "Python 3",
   "language": "python",
   "name": "python3"
  },
  "language_info": {
   "codemirror_mode": {
    "name": "ipython",
    "version": 3
   },
   "file_extension": ".py",
   "mimetype": "text/x-python",
   "name": "python",
   "nbconvert_exporter": "python",
   "pygments_lexer": "ipython3",
   "version": "3.5.1"
  }
 },
 "nbformat": 4,
 "nbformat_minor": 0
}
