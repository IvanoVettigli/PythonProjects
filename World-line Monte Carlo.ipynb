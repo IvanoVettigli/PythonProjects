{
 "cells": [
  {
   "cell_type": "markdown",
   "metadata": {},
   "source": [
    "# World-line Monte-Carlo"
   ]
  },
  {
   "cell_type": "markdown",
   "metadata": {},
   "source": [
    "Simulare con metodo world-line Monte Carlo l’oscillatore armonico quantistico\n",
    "\n",
    "\n",
    "$$  H = \\frac{1}{2mp2} + \\frac{mω^2}{2}x^2 $$\n",
    "\n",
    "\n",
    "Fattorizzare la traccia in $ L $ slice temporali, per cui essendo $ x_0, x_1, x_2, . . . , x_{L−1} $ le posizioni nei tempi immaginari $ 0, τ, 2τ, . . . , β − τ $ , con $ τ = β/L $ e $ β = 1/T $ la temperatura inversa, il peso del cammino nel tempo immaginario è dato da \n",
    "\n",
    "\n",
    "$$ \n",
    "exp \\Bigg[ − \\frac{τmω^2}{2} \\sum\\limits_{k = 0}^{L-1} x^2_k − \\frac{m}{2τ\\hbar} \\sum\\limits_{k=0}^{L-1} (x_k − x_{k+1})^2 \\Bigg] \n",
    "$$\n",
    "\n",
    "\n",
    "con condizioni periodiche $ x_L = x_0 $.\n",
    "Definire un microstep Monte Carlo nella seguente maniera: estrarre un numero intero $ k $ nell’insieme $ {0, . . . , L − 1} $, e un numero reale $ δ $ nell’intervallo $ (−δmax, δmax) $, e proporre la mossa  \n",
    "\n",
    "\n",
    "$$ x_k −→ x_k + δ $$\n",
    "\n",
    "\n",
    "Accettare la mossa con le probabilità di Metropolis. Uno step Monte Carlo è definito da $ L $ microstep.\n",
    "Fare un grafico dello spostamento quadratico\n",
    "\n",
    "\n",
    "$$ \\frac{1}{L} \\sum\\limits_{k = 0}^{L = 1} x^2_k $$\n",
    "\n",
    "\n",
    "in funzione degli step Monte Carlo.\n",
    "Verificare che su tempi Monte Carlo lunghi lo spostamento quadratico oscilla attorno al valore\n",
    "\n",
    "\n",
    "$$ \\langle x^2 \\rangle = \\frac{\\hbar}{2mω} \\Bigg( \\frac{1 + e^{−β\\hbar ω}}{1 − e^{-β\\hbar ω}} \\Bigg) $$\n",
    "\n",
    "Utilizzare le unità di misura: $ \\hbar = m = ω = 1 $, e i parametri: $ T = 0.25 $, $ L = 20 $, $ δmax = 1 $. Plottare lo spostamento\n",
    "quadratico ogni $ 105 $ step Monte Carlo."
   ]
  },
  {
   "cell_type": "code",
   "execution_count": null,
   "metadata": {
    "collapsed": true
   },
   "outputs": [],
   "source": []
  }
 ],
 "metadata": {
  "kernelspec": {
   "display_name": "Python 3",
   "language": "python",
   "name": "python3"
  },
  "language_info": {
   "codemirror_mode": {
    "name": "ipython",
    "version": 3
   },
   "file_extension": ".py",
   "mimetype": "text/x-python",
   "name": "python",
   "nbconvert_exporter": "python",
   "pygments_lexer": "ipython3",
   "version": "3.5.1"
  }
 },
 "nbformat": 4,
 "nbformat_minor": 0
}
