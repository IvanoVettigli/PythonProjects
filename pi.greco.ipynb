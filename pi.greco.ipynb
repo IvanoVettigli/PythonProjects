{
 "cells": [
  {
   "cell_type": "markdown",
   "metadata": {},
   "source": [
    "In the following, a Monte-Carlo algorithm is implemented in order to compute the values of $ \\pi $ . The computations not only returns the value of $ \\pi $, but also the error estimation."
   ]
  },
  {
   "cell_type": "code",
   "execution_count": 4,
   "metadata": {
    "collapsed": false
   },
   "outputs": [
    {
     "name": "stdout",
     "output_type": "stream",
     "text": [
      "3.1414324 0.000524494826499\n"
     ]
    },
    {
     "data": {
      "image/png": "[encoded data removed]"
     },
     "metadata": {},
     "output_type": "display_data",
     "text": [
      "<matplotlib.figure.Figure at 0x2200d2598d0>"
     ]
    }
   ],
   "source": [
    "import matplotlib.pyplot as plt\n",
    "\n",
    "import numpy as np\n",
    "\n",
    "import plotly.plotly as py\n",
    "\n",
    "import math\n",
    "\n",
    "%matplotlib inline                     \n",
    "\n",
    "from random import *\n",
    "\n",
    "P = 10000000                       \n",
    "mod = 1000\n",
    "p = 0\n",
    "contatore = 0\n",
    "pigreco = []\n",
    "\n",
    "for lanci in range(1, P+2):\n",
    "    x = random()\n",
    "    y = random()\n",
    "    if x*x+y*y <= 1:\n",
    "        p += 1\n",
    "    if lanci%mod == 0:\n",
    "        pigreco.append(4*p/mod)\n",
    "        p = 0\n",
    "        contatore += 1\n",
    "\n",
    "errore = np.std(pigreco)/np.sqrt(contatore)        \n",
    "print(np.mean(pigreco), errore )\n",
    "\n",
    "plt.figure()\n",
    "plt.hist(pigreco)\n",
    "plt.title(\"Istogramma Gaussiano\")\n",
    "plt.xlabel(\"Valore\")\n",
    "plt.ylabel(\"Numero di estrazioni\")\n",
    "plt.show()"
   ]
  },
  {
   "cell_type": "markdown",
   "metadata": {},
   "source": [
    "As it can be easily seen, the true value of $ \\pi $ lies in the intervals defined by the estimation and the error."
   ]
  },
  {
   "cell_type": "markdown",
   "metadata": {},
   "source": [
    "Thia time, algorithm will simulate a random walk on a clock. At any step, the pointer can go both clockwiaw or counter clockwise or even be still with equals probability."
   ]
  },
  {
   "cell_type": "code",
   "execution_count": 24,
   "metadata": {
    "collapsed": false
   },
   "outputs": [
    {
     "data": {
      "image/png": "[encoded data removed]"
     },
     "metadata": {},
     "output_type": "display_data"
    }
   ],
   "source": [
    "import matplotlib.pyplot as plt\n",
    "\n",
    "import numpy as np\n",
    "\n",
    "import plotly.plotly as py\n",
    "\n",
    "from random import *\n",
    "\n",
    "%matplotlib inline     \n",
    "\n",
    "posizione = 0\n",
    "N = 1000\n",
    "prove = 10000\n",
    "spostamento = []\n",
    "\n",
    "for iterazioni in range(prove):\n",
    "\n",
    "    for passi in range(N):\n",
    "\n",
    "        x = random()\n",
    "        if x >= 2/3:\n",
    "            posizione += 1\n",
    "        if x <= 1/3:\n",
    "            posizione -= 1\n",
    "    spostamento.append(posizione % 12)\n",
    "    posizione = 0\n",
    "\n",
    "plt.figure()\n",
    "plt.hist(spostamento, bins=range(min(spostamento), max(spostamento) + 2, 1))\n",
    "plt.show()"
   ]
  },
  {
   "cell_type": "markdown",
   "metadata": {},
   "source": [
    "The histogram tells us that after a sufficient number of steps, the chaches of find the pointer anywhere in the clock is the same."
   ]
  },
  {
   "cell_type": "code",
   "execution_count": 25,
   "metadata": {
    "collapsed": false
   },
   "outputs": [
    {
     "data": {
      "image/png": "[encoded data removed]"
     },
     "metadata": {},
     "output_type": "display_data"
    },
    {
     "data": {
      "image/png": "[encoded data removed]"
     },
     "metadata": {},
     "output_type": "display_data"
    }
   ],
   "source": [
    "import matplotlib.pyplot as plt\n",
    "\n",
    "import numpy as np\n",
    "\n",
    "import plotly.plotly as py\n",
    "\n",
    "from random import *\n",
    "\n",
    "%matplotlib inline     \n",
    "\n",
    "posizione = 0\n",
    "N = 1000\n",
    "prove = 10000\n",
    "spostamento = []\n",
    "\n",
    "for iterazioni in range(prove):\n",
    "\n",
    "    for passi in range(N):\n",
    "\n",
    "        x = random()\n",
    "        if x >= 0.5:\n",
    "            posizione += 1\n",
    "        if x < 0.5:\n",
    "            posizione -= 1\n",
    "    spostamento.append(posizione)\n",
    "    posizione = 0\n",
    "\n",
    "plt.figure()\n",
    "plt.hist(spostamento, bins=range(min(spostamento), max(spostamento) + 2, 1))\n",
    "plt.show()\n",
    "\n",
    "plt.figure()\n",
    "plt.hist(spostamento)\n",
    "plt.show()"
   ]
  }
 ],
 "metadata": {
  "kernelspec": {
   "display_name": "Python 3",
   "language": "python",
   "name": "python3"
  },
  "language_info": {
   "codemirror_mode": {
    "name": "ipython",
    "version": 3
   },
   "file_extension": ".py",
   "mimetype": "text/x-python",
   "name": "python",
   "nbconvert_exporter": "python",
   "pygments_lexer": "ipython3",
   "version": "3.5.1"
  }
 },
 "nbformat": 4,
 "nbformat_minor": 0
}
